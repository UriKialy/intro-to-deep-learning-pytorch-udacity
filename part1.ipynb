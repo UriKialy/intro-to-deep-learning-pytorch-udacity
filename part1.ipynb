{
  "nbformat": 4,
  "nbformat_minor": 0,
  "metadata": {
    "colab": {
      "provenance": []
    },
    "kernelspec": {
      "name": "python3",
      "display_name": "Python 3"
    },
    "language_info": {
      "name": "python"
    }
  },
  "cells": [
    {
      "cell_type": "code",
      "source": [
        "# First, import PyTorch\n",
        "#!pip install torch torchvision torchaudio\n",
        "import torch"
      ],
      "metadata": {
        "collapsed": true,
        "id": "E2as7xUfHO1c"
      },
      "execution_count": null,
      "outputs": []
    },
    {
      "cell_type": "code",
      "source": [
        "def activation(x):\n",
        "    \"\"\" Sigmoid activation function\n",
        "\n",
        "        Arguments\n",
        "        ---------\n",
        "        x: torch.Tensor\n",
        "    \"\"\"\n",
        "    return 1/(1+torch.exp(-x))"
      ],
      "metadata": {
        "id": "CCkr-d6iHPQA"
      },
      "execution_count": null,
      "outputs": []
    },
    {
      "cell_type": "code",
      "source": [
        "### Generate some data\n",
        "torch.manual_seed(7) # Set the random seed so things are predictable\n",
        "\n",
        "# Features are 3 random normal variables\n",
        "features = torch.randn((1, 5))\n",
        "# True weights for our data, random normal variables again\n",
        "weights = torch.randn_like(features)\n",
        "# and a true bias term\n",
        "bias = torch.randn((1, 1))"
      ],
      "metadata": {
        "id": "LBqn1WkIHRLK"
      },
      "execution_count": null,
      "outputs": []
    },
    {
      "cell_type": "code",
      "source": [
        "## Calculate the output of this network using the weights and bias tensors\n",
        "y=activation(torch.sum(features*weights+bias))"
      ],
      "metadata": {
        "id": "uh2ZyaYUHSgU"
      },
      "execution_count": null,
      "outputs": []
    },
    {
      "cell_type": "code",
      "source": [
        "## Calculate the output of this network using matrix multiplication\n",
        "# print(features.shape)\n",
        "# print(weights.shape)\n",
        "weights=weights.view(5,1)\n",
        "y=torch.mm(weights,features)"
      ],
      "metadata": {
        "id": "KJvQcQLpHVm8"
      },
      "execution_count": null,
      "outputs": []
    },
    {
      "cell_type": "code",
      "source": [
        "### Generate some data\n",
        "torch.manual_seed(7) # Set the random seed so things are predictable\n",
        "\n",
        "# Features are 3 random normal variables\n",
        "features = torch.randn((1, 3))\n",
        "\n",
        "# Define the size of each layer in our network\n",
        "n_input = features.shape[1]     # Number of input units, must match number of input features\n",
        "n_hidden = 2                    # Number of hidden units\n",
        "n_output = 1                    # Number of output units\n",
        "\n",
        "# Weights for inputs to hidden layer\n",
        "W1 = torch.randn(n_input, n_hidden)\n",
        "# Weights for hidden layer to output layer\n",
        "W2 = torch.randn(n_hidden, n_output)\n",
        "\n",
        "# and bias terms for hidden and output layers\n",
        "B1 = torch.randn((1, n_hidden))\n",
        "B2 = torch.randn((1, n_output))"
      ],
      "metadata": {
        "id": "l69duTJnHXOs"
      },
      "execution_count": null,
      "outputs": []
    },
    {
      "cell_type": "code",
      "source": [
        "## Your solution here\n",
        "h=activation(torch.mm(features,W1)+B1)\n",
        "output=activation(torch.mm(h,W2)+B2)\n",
        "print(output)\n",
        "#print(W1,W2)"
      ],
      "metadata": {
        "colab": {
          "base_uri": "https://localhost:8080/"
        },
        "id": "V5-MYchcHYwo",
        "outputId": "be60d625-97ab-4044-fc4f-d719f47c9d50"
      },
      "execution_count": null,
      "outputs": [
        {
          "output_type": "stream",
          "name": "stdout",
          "text": [
            "tensor([[0.31708315]])\n"
          ]
        }
      ]
    },
    {
      "cell_type": "code",
      "source": [
        "import numpy as np\n",
        "np.set_printoptions(precision=8)\n",
        "a = np.random.rand(4,3)\n",
        "a"
      ],
      "metadata": {
        "colab": {
          "base_uri": "https://localhost:8080/"
        },
        "id": "NGTlgNM8HayF",
        "outputId": "d2f78af4-686a-4f30-a700-853d1d9aa5c2"
      },
      "execution_count": null,
      "outputs": [
        {
          "output_type": "execute_result",
          "data": {
            "text/plain": [
              "array([[0.58117681, 0.86509352, 0.42174379],\n",
              "       [0.77205735, 0.96940739, 0.9901001 ],\n",
              "       [0.05994922, 0.82903944, 0.14677912],\n",
              "       [0.6558211 , 0.03233277, 0.51281131]])"
            ]
          },
          "metadata": {},
          "execution_count": 19
        }
      ]
    },
    {
      "cell_type": "code",
      "source": [
        "torch.set_printoptions(precision=8)\n",
        "b = torch.from_numpy(a)\n",
        "b"
      ],
      "metadata": {
        "colab": {
          "base_uri": "https://localhost:8080/"
        },
        "id": "LQakK0IgHcPX",
        "outputId": "49d911c5-4a55-45cf-d193-ddd1694a9ad2"
      },
      "execution_count": null,
      "outputs": [
        {
          "output_type": "execute_result",
          "data": {
            "text/plain": [
              "tensor([[0.58117681, 0.86509352, 0.42174379],\n",
              "        [0.77205735, 0.96940739, 0.99010010],\n",
              "        [0.05994922, 0.82903944, 0.14677912],\n",
              "        [0.65582110, 0.03233277, 0.51281131]], dtype=torch.float64)"
            ]
          },
          "metadata": {},
          "execution_count": 20
        }
      ]
    },
    {
      "cell_type": "code",
      "source": [
        "b.numpy()"
      ],
      "metadata": {
        "colab": {
          "base_uri": "https://localhost:8080/"
        },
        "id": "cxUfftSxHdsY",
        "outputId": "71700b3a-ea7d-4ccf-ca71-dd11dbcfd405"
      },
      "execution_count": null,
      "outputs": [
        {
          "output_type": "execute_result",
          "data": {
            "text/plain": [
              "array([[0.58117681, 0.86509352, 0.42174379],\n",
              "       [0.77205735, 0.96940739, 0.9901001 ],\n",
              "       [0.05994922, 0.82903944, 0.14677912],\n",
              "       [0.6558211 , 0.03233277, 0.51281131]])"
            ]
          },
          "metadata": {},
          "execution_count": 21
        }
      ]
    },
    {
      "cell_type": "code",
      "source": [
        "# Multiply PyTorch Tensor by 2, in place\n",
        "b.mul_(2)"
      ],
      "metadata": {
        "colab": {
          "base_uri": "https://localhost:8080/"
        },
        "id": "FILnMIx7Hfqd",
        "outputId": "ed7b7547-7f49-482e-d2b9-f9c7505fb25c"
      },
      "execution_count": null,
      "outputs": [
        {
          "output_type": "execute_result",
          "data": {
            "text/plain": [
              "tensor([[1.16235361, 1.73018704, 0.84348758],\n",
              "        [1.54411471, 1.93881477, 1.98020021],\n",
              "        [0.11989843, 1.65807887, 0.29355824],\n",
              "        [1.31164219, 0.06466554, 1.02562262]], dtype=torch.float64)"
            ]
          },
          "metadata": {},
          "execution_count": 22
        }
      ]
    },
    {
      "cell_type": "code",
      "source": [
        "# Numpy array matches new values from Tensor\n",
        "a"
      ],
      "metadata": {
        "colab": {
          "base_uri": "https://localhost:8080/"
        },
        "id": "JjmsVknhHhWH",
        "outputId": "4def9e93-80a5-49c4-c1d0-51aec4986380"
      },
      "execution_count": null,
      "outputs": [
        {
          "output_type": "execute_result",
          "data": {
            "text/plain": [
              "array([[1.16235361, 1.73018704, 0.84348758],\n",
              "       [1.54411471, 1.93881477, 1.98020021],\n",
              "       [0.11989843, 1.65807887, 0.29355824],\n",
              "       [1.31164219, 0.06466554, 1.02562262]])"
            ]
          },
          "metadata": {},
          "execution_count": 23
        }
      ]
    }
  ]
}
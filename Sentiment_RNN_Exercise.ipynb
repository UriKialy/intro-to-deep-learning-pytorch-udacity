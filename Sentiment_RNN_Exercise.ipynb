{
  "cells": [
    {
      "cell_type": "markdown",
      "metadata": {
        "id": "view-in-github",
        "colab_type": "text"
      },
      "source": [
        "<a href=\"https://colab.research.google.com/github/UriKialy/intro-to-deep-learning-pytorch-udacity/blob/main/Sentiment_RNN_Exercise.ipynb\" target=\"_parent\"><img src=\"https://colab.research.google.com/assets/colab-badge.svg\" alt=\"Open In Colab\"/></a>"
      ]
    },
    {
      "cell_type": "markdown",
      "metadata": {
        "id": "7fg2kExTA7Jc"
      },
      "source": [
        "# Sentiment Analysis with an RNN\n",
        "\n",
        "In this notebook, you'll implement a recurrent neural network that performs sentiment analysis.\n",
        ">Using an RNN rather than a strictly feedforward network is more accurate since we can include information about the *sequence* of words.\n",
        "\n",
        "Here we'll use a dataset of movie reviews, accompanied by sentiment labels: positive or negative.\n",
        "\n",
        "<img src=\"assets/reviews_ex.png\" width=40%>\n",
        "\n",
        "### Network Architecture\n",
        "\n",
        "The architecture for this network is shown below.\n",
        "\n",
        "<img src=\"assets/network_diagram.png\" width=40%>\n",
        "\n",
        ">**First, we'll pass in words to an embedding layer.** We need an embedding layer because we have tens of thousands of words, so we'll need a more efficient representation for our input data than one-hot encoded vectors. You should have seen this before from the Word2Vec lesson. You can actually train an embedding with the Skip-gram Word2Vec model and use those embeddings as input, here. However, it's good enough to just have an embedding layer and let the network learn a different embedding table on its own. *In this case, the embedding layer is for dimensionality reduction, rather than for learning semantic representations.*\n",
        "\n",
        ">**After input words are passed to an embedding layer, the new embeddings will be passed to LSTM cells.** The LSTM cells will add *recurrent* connections to the network and give us the ability to include information about the *sequence* of words in the movie review data.\n",
        "\n",
        ">**Finally, the LSTM outputs will go to a sigmoid output layer.** We're using a sigmoid function because positive and negative = 1 and 0, respectively, and a sigmoid will output predicted, sentiment values between 0-1.\n",
        "\n",
        "We don't care about the sigmoid outputs except for the **very last one**; we can ignore the rest. We'll calculate the loss by comparing the output at the last time step and the training label (pos or neg)."
      ]
    },
    {
      "cell_type": "markdown",
      "metadata": {
        "id": "vNMTpCXCA7Je"
      },
      "source": [
        "---\n",
        "### Load in and visualize the data"
      ]
    },
    {
      "cell_type": "code",
      "execution_count": 6,
      "metadata": {
        "collapsed": true,
        "colab": {
          "base_uri": "https://localhost:8080/"
        },
        "id": "g71SEkXKA7Je",
        "outputId": "4ec07e44-6b81-45e7-a014-dbfffc9de4b9"
      },
      "outputs": [
        {
          "output_type": "stream",
          "name": "stdout",
          "text": [
            "Loading reviews and labels...\n",
            "Total reviews loaded: 25000\n",
            "Total labels loaded: 25000\n",
            "Unique labels: {'pos', 'neg'}\n"
          ]
        }
      ],
      "source": [
        "import os\n",
        "import requests\n",
        "import tarfile\n",
        "\n",
        "# URLs for dataset download (hosted on Kaggle or public repositories)\n",
        "dataset_url = \"https://ai.stanford.edu/~amaas/data/sentiment/aclImdb_v1.tar.gz\"\n",
        "\n",
        "# File paths\n",
        "data_dir = \"data\"\n",
        "dataset_path = os.path.join(data_dir, \"aclImdb_v1.tar.gz\")\n",
        "extracted_dir = os.path.join(data_dir, \"aclImdb\")\n",
        "\n",
        "# Ensure the data directory exists\n",
        "os.makedirs(data_dir, exist_ok=True)\n",
        "\n",
        "# Download the dataset if not already present\n",
        "if not os.path.exists(dataset_path):\n",
        "    print(\"Downloading IMDB dataset...\")\n",
        "    response = requests.get(dataset_url, stream=True)\n",
        "    with open(dataset_path, \"wb\") as f:\n",
        "        for chunk in response.iter_content(chunk_size=1024):\n",
        "            if chunk:\n",
        "                f.write(chunk)\n",
        "\n",
        "# Extract the dataset if not already extracted\n",
        "if not os.path.exists(extracted_dir):\n",
        "    print(\"Extracting IMDB dataset...\")\n",
        "    with tarfile.open(dataset_path, \"r:gz\") as tar:\n",
        "        tar.extractall(path=data_dir)\n",
        "\n",
        "# Read reviews and labels\n",
        "print(\"Loading reviews and labels...\")\n",
        "\n",
        "train_dir = os.path.join(extracted_dir, \"train\")\n",
        "\n",
        "# Load positive and negative reviews\n",
        "reviews = []\n",
        "labels = []\n",
        "\n",
        "for label in [\"pos\", \"neg\"]:  # Loop through positive and negative directories\n",
        "    dir_path = os.path.join(train_dir, label)\n",
        "    for filename in os.listdir(dir_path):\n",
        "        with open(os.path.join(dir_path, filename), \"r\", encoding=\"utf-8\") as file:\n",
        "            reviews.append(file.read())\n",
        "            labels.append(\"pos\" if label == \"pos\" else \"neg\")  # Append \"pos\" or \"neg\"\n",
        "\n",
        "# Debugging outputs\n",
        "print(f\"Total reviews loaded: {len(reviews)}\")\n",
        "print(f\"Total labels loaded: {len(labels)}\")\n",
        "print(f\"Unique labels: {set(labels)}\")\n",
        "\n",
        "\n",
        "# Convert to single strings\n",
        "reviews = \"\\n\".join(reviews)\n",
        "labels = \"\\n\".join(labels)\n"
      ]
    },
    {
      "cell_type": "code",
      "source": [
        "print(len(reviews),len(labels))"
      ],
      "metadata": {
        "colab": {
          "base_uri": "https://localhost:8080/"
        },
        "id": "r8L6C7SxhMBG",
        "outputId": "bdee113c-3308-4c3b-a484-fb03407d38f9"
      },
      "execution_count": 7,
      "outputs": [
        {
          "output_type": "stream",
          "name": "stdout",
          "text": [
            "33151740 99999\n"
          ]
        }
      ]
    },
    {
      "cell_type": "code",
      "execution_count": 9,
      "metadata": {
        "colab": {
          "base_uri": "https://localhost:8080/"
        },
        "id": "RNayooJ8A7Je",
        "outputId": "82114169-b050-4ac3-ef93-bffcca7c86c5"
      },
      "outputs": [
        {
          "output_type": "stream",
          "name": "stdout",
          "text": [
            "99999\n"
          ]
        }
      ],
      "source": [
        "# Ensure reviews and labels have the same length\n",
        "min_length = min(len(reviews), len(labels))\n",
        "print(min_length)\n",
        "# Truncate both to the same length\n",
        "reviews = reviews[:min_length]\n",
        "labels = labels[:min_length]\n",
        "\n",
        "# Print the preprocessed samples\n",
        "#print(reviews[:min_length])  # Print reviews up to the truncated length\n",
        "#print()\n",
        "#print(labels[:min_length])  # Print labels up to the truncated length\n"
      ]
    },
    {
      "cell_type": "markdown",
      "metadata": {
        "id": "OtQNzwsDA7Je"
      },
      "source": [
        "## Data pre-processing\n",
        "\n",
        "The first step when building a neural network model is getting your data into the proper form to feed into the network. Since we're using embedding layers, we'll need to encode each word with an integer. We'll also want to clean it up a bit.\n",
        "\n",
        "You can see an example of the reviews data above. Here are the processing steps, we'll want to take:\n",
        ">* We'll want to get rid of periods and extraneous punctuation.\n",
        "* Also, you might notice that the reviews are delimited with newline characters `\\n`. To deal with those, I'm going to split the text into each review using `\\n` as the delimiter.\n",
        "* Then I can combined all the reviews back together into one big string.\n",
        "\n",
        "First, let's remove all punctuation. Then get all the text without the newlines and split it into individual words."
      ]
    },
    {
      "cell_type": "code",
      "execution_count": 10,
      "metadata": {
        "colab": {
          "base_uri": "https://localhost:8080/"
        },
        "id": "NUwPDaGlA7Je",
        "outputId": "3d9c9746-7560-4469-a1ac-dbfd27fe0b44"
      },
      "outputs": [
        {
          "output_type": "stream",
          "name": "stdout",
          "text": [
            "!\"#$%&'()*+,-./:;<=>?@[\\]^_`{|}~\n"
          ]
        }
      ],
      "source": [
        "from string import punctuation\n",
        "\n",
        "print(punctuation)\n",
        "\n",
        "# get rid of punctuation\n",
        "reviews = reviews.lower() # lowercase, standardize\n",
        "all_text = ''.join([c for c in reviews if c not in punctuation])"
      ]
    },
    {
      "cell_type": "code",
      "execution_count": 11,
      "metadata": {
        "collapsed": true,
        "colab": {
          "base_uri": "https://localhost:8080/"
        },
        "id": "om2lK1wDA7Je",
        "outputId": "5ac82ac1-f8ab-4910-97fd-1f6c94a7672f"
      },
      "outputs": [
        {
          "output_type": "stream",
          "name": "stdout",
          "text": [
            "['i', 'saw', 'it', 'at', 'the', 'legacy', 'theater', 'in', 'the', 'joseph', 'smith', 'memorial', 'building', 'in', 'salt', 'lake', 'city', 'this', 'morning', 'im']\n"
          ]
        }
      ],
      "source": [
        "# Split the text into words based on whitespace (spaces, newlines, etc.)\n",
        "words = all_text.split()  # Splits on any whitespace character (including newline, space, etc.)\n",
        "\n",
        "# Print the first 20 words to check\n",
        "print(words[:20])  # Print the first 20 words\n"
      ]
    },
    {
      "cell_type": "code",
      "execution_count": 12,
      "metadata": {
        "colab": {
          "base_uri": "https://localhost:8080/"
        },
        "collapsed": true,
        "id": "uxJ1qoA5A7Jf",
        "outputId": "f528a6f7-a652-4be8-a4e6-3d22f3bc740a"
      },
      "outputs": [
        {
          "output_type": "execute_result",
          "data": {
            "text/plain": [
              "['i',\n",
              " 'saw',\n",
              " 'it',\n",
              " 'at',\n",
              " 'the',\n",
              " 'legacy',\n",
              " 'theater',\n",
              " 'in',\n",
              " 'the',\n",
              " 'joseph',\n",
              " 'smith',\n",
              " 'memorial',\n",
              " 'building',\n",
              " 'in',\n",
              " 'salt',\n",
              " 'lake',\n",
              " 'city',\n",
              " 'this',\n",
              " 'morning',\n",
              " 'im',\n",
              " 'going',\n",
              " 'to',\n",
              " 'assume',\n",
              " 'that',\n",
              " 'ones',\n",
              " 'level',\n",
              " 'of',\n",
              " 'enjoyment',\n",
              " 'during',\n",
              " 'this']"
            ]
          },
          "metadata": {},
          "execution_count": 12
        }
      ],
      "source": [
        "words[:30]"
      ]
    },
    {
      "cell_type": "markdown",
      "metadata": {
        "id": "On9N5_4PA7Jf"
      },
      "source": [
        "### Encoding the words\n",
        "\n",
        "The embedding lookup requires that we pass in integers to our network. The easiest way to do this is to create dictionaries that map the words in the vocabulary to integers. Then we can convert each of our reviews into integers so they can be passed into the network.\n",
        "\n",
        "> **Exercise:** Now you're going to encode the words with integers. Build a dictionary that maps words to integers. Later we're going to pad our input vectors with zeros, so make sure the integers **start at 1, not 0**.\n",
        "> Also, convert the reviews to integers and store the reviews in a new list called `reviews_ints`."
      ]
    },
    {
      "cell_type": "code",
      "source": [
        "from string import punctuation\n",
        "\n",
        "# get rid of punctuation\n",
        "reviews = reviews.lower() # lowercase, standardize\n",
        "all_text = ''.join([c for c in reviews if c not in punctuation])\n",
        "\n",
        "# split by new lines and spaces\n",
        "reviews_split = all_text.split('\\n')\n",
        "all_text = ' '.join(reviews_split)\n",
        "\n",
        "# create a list of words\n",
        "words = all_text.split()"
      ],
      "metadata": {
        "id": "-4_IOOzJh7VH"
      },
      "execution_count": 14,
      "outputs": []
    },
    {
      "cell_type": "code",
      "execution_count": 15,
      "metadata": {
        "collapsed": true,
        "colab": {
          "base_uri": "https://localhost:8080/"
        },
        "id": "8sK-Z4G9A7Jf",
        "outputId": "0fe609f9-9444-4069-d3bc-a00ea8099611"
      },
      "outputs": [
        {
          "output_type": "stream",
          "name": "stdout",
          "text": [
            "Number of tokenized reviews: 73\n",
            "Number of original reviews: 73\n",
            "Sample tokenized review (first review): [9, 182, 8, 30, 1, 893, 470, 6, 1, 627, 628, 1492, 894, 6, 895, 629, 379, 11, 896, 135, 158, 5, 1493, 10, 380, 471, 4, 897, 141, 11, 20, 77, 1494, 27, 313, 22, 380, 471, 4, 898, 4, 1495, 1496, 13, 142, 10, 1497, 8, 12, 44, 56, 95, 56, 630, 2, 59, 3, 381, 631, 36, 23, 110, 5, 895, 629, 379, 8, 7, 3, 224, 5, 54, 8, 6, 1, 893, 470, 9, 26, 172, 69, 6, 3, 1498, 470, 14, 314, 14, 251, 472, 473, 472, 2, 1499, 6, 61, 474, 1500, 899, 36, 1, 632, 41, 1501, 73, 86, 475, 633, 46, 70, 10, 135, 900, 2, 1502, 627, 14, 3, 1503, 9, 12, 476, 6, 477, 1504, 2, 12, 901, 5, 902, 96, 3, 382, 1505, 9, 1506, 7, 903, 201, 58, 1507, 37, 1508, 120, 1, 20, 904, 315, 135, 383, 10, 11, 15, 7, 905, 6, 477, 900, 1509, 1510, 202, 1, 1511, 36, 23, 26, 1512, 478, 906, 8, 37, 89, 479, 23, 384, 627, 628, 47, 21, 28, 634, 3, 635, 57]\n"
          ]
        }
      ],
      "source": [
        "from collections import Counter\n",
        "\n",
        "# Count how often each word appears\n",
        "counts = Counter(words)\n",
        "\n",
        "# Create a sorted list of words by appearance frequency\n",
        "vocab = sorted(counts, key=counts.get, reverse=True)\n",
        "\n",
        "# Create a mapping from word to integer\n",
        "vocab_to_int = {word: ii for ii, word in enumerate(vocab, 1)}\n",
        "\n",
        "# Tokenize the reviews\n",
        "reviews_ints = []\n",
        "for review in reviews_split:\n",
        "    # Tokenize and handle words that are in vocab_to_int\n",
        "    tokenized_review = [vocab_to_int[word] for word in review.split() if word in vocab_to_int]\n",
        "    if tokenized_review:  # Only append non-empty tokenized reviews\n",
        "        reviews_ints.append(tokenized_review)\n",
        "\n",
        "# Check if reviews_ints aligns with labels\n",
        "print(f\"Number of tokenized reviews: {len(reviews_ints)}\")\n",
        "print(f\"Number of original reviews: {len(reviews_split)}\")\n",
        "assert len(reviews_ints) == len(reviews_split), \"Mismatch between tokenized reviews and original reviews\"\n",
        "\n",
        "# Check if vocab_to_int is working fine\n",
        "print(\"Sample tokenized review (first review):\", reviews_ints[0] if reviews_ints else \"No reviews available\")\n"
      ]
    },
    {
      "cell_type": "markdown",
      "metadata": {
        "id": "uLyPsujUA7Jf"
      },
      "source": [
        "**Test your code**\n",
        "\n",
        "As a text that you've implemented the dictionary correctly, print out the number of unique words in your vocabulary and the contents of the first, tokenized review."
      ]
    },
    {
      "cell_type": "code",
      "execution_count": 16,
      "metadata": {
        "collapsed": true,
        "colab": {
          "base_uri": "https://localhost:8080/"
        },
        "id": "mGzIs1AxA7Jf",
        "outputId": "e0cfdecb-8347-40ff-fa80-a23316bd8b2e"
      },
      "outputs": [
        {
          "output_type": "stream",
          "name": "stdout",
          "text": [
            "Unique words:  4142\n",
            "\n",
            "Tokenized review: \n",
            " [[9, 182, 8, 30, 1, 893, 470, 6, 1, 627, 628, 1492, 894, 6, 895, 629, 379, 11, 896, 135, 158, 5, 1493, 10, 380, 471, 4, 897, 141, 11, 20, 77, 1494, 27, 313, 22, 380, 471, 4, 898, 4, 1495, 1496, 13, 142, 10, 1497, 8, 12, 44, 56, 95, 56, 630, 2, 59, 3, 381, 631, 36, 23, 110, 5, 895, 629, 379, 8, 7, 3, 224, 5, 54, 8, 6, 1, 893, 470, 9, 26, 172, 69, 6, 3, 1498, 470, 14, 314, 14, 251, 472, 473, 472, 2, 1499, 6, 61, 474, 1500, 899, 36, 1, 632, 41, 1501, 73, 86, 475, 633, 46, 70, 10, 135, 900, 2, 1502, 627, 14, 3, 1503, 9, 12, 476, 6, 477, 1504, 2, 12, 901, 5, 902, 96, 3, 382, 1505, 9, 1506, 7, 903, 201, 58, 1507, 37, 1508, 120, 1, 20, 904, 315, 135, 383, 10, 11, 15, 7, 905, 6, 477, 900, 1509, 1510, 202, 1, 1511, 36, 23, 26, 1512, 478, 906, 8, 37, 89, 479, 23, 384, 627, 628, 47, 21, 28, 634, 3, 635, 57]]\n"
          ]
        }
      ],
      "source": [
        "# stats about vocabulary\n",
        "print('Unique words: ', len((vocab_to_int)))  # should ~ 74000+\n",
        "print()\n",
        "\n",
        "# print tokens in first review\n",
        "print('Tokenized review: \\n', reviews_ints[:1])"
      ]
    },
    {
      "cell_type": "markdown",
      "metadata": {
        "id": "HMcWofWwA7Jf"
      },
      "source": [
        "### Encoding the labels\n",
        "\n",
        "Our labels are \"positive\" or \"negative\". To use these labels in our network, we need to convert them to 0 and 1.\n",
        "\n",
        "> **Exercise:** Convert labels from `positive` and `negative` to 1 and 0, respectively, and place those in a new list, `encoded_labels`."
      ]
    },
    {
      "cell_type": "code",
      "execution_count": 17,
      "metadata": {
        "collapsed": true,
        "id": "hfhCqgkwA7Jf"
      },
      "outputs": [],
      "source": [
        "import numpy as np\n",
        "# 1=positive, 0=negative label conversion\n",
        "lables_split=labels.split('\\n')\n",
        "encoded_labels = np.array([1 if label=='positive' else  0 for label in labels.split()])"
      ]
    },
    {
      "cell_type": "markdown",
      "metadata": {
        "id": "xdBgOJH5A7Jf"
      },
      "source": [
        "### Removing Outliers\n",
        "\n",
        "As an additional pre-processing step, we want to make sure that our reviews are in good shape for standard processing. That is, our network will expect a standard input text size, and so, we'll want to shape our reviews into a specific length. We'll approach this task in two main steps:\n",
        "\n",
        "1. Getting rid of extremely long or short reviews; the outliers\n",
        "2. Padding/truncating the remaining data so that we have reviews of the same length.\n",
        "\n",
        "<img src=\"assets/outliers_padding_ex.png\" width=40%>\n",
        "\n",
        "Before we pad our review text, we should check for reviews of extremely short or long lengths; outliers that may mess with our training."
      ]
    },
    {
      "cell_type": "code",
      "execution_count": 18,
      "metadata": {
        "collapsed": true,
        "colab": {
          "base_uri": "https://localhost:8080/"
        },
        "id": "TbJXIAu7A7Jf",
        "outputId": "044a0979-5724-4ae1-b08c-d55569a0da81"
      },
      "outputs": [
        {
          "output_type": "stream",
          "name": "stdout",
          "text": [
            "Zero-length reviews: 0\n",
            "Maximum review length: 986\n"
          ]
        }
      ],
      "source": [
        "# outlier review stats\n",
        "review_lens = Counter([len(x) for x in reviews_ints])\n",
        "print(\"Zero-length reviews: {}\".format(review_lens[0]))\n",
        "print(\"Maximum review length: {}\".format(max(review_lens)))"
      ]
    },
    {
      "cell_type": "markdown",
      "metadata": {
        "id": "jnL-G_FQA7Jf"
      },
      "source": [
        "Okay, a couple issues here. We seem to have one review with zero length. And, the maximum review length is way too many steps for our RNN. We'll have to remove any super short reviews and truncate super long reviews. This removes outliers and should allow our model to train more efficiently.\n",
        "\n",
        "> **Exercise:** First, remove *any* reviews with zero length from the `reviews_ints` list and their corresponding label in `encoded_labels`."
      ]
    },
    {
      "cell_type": "code",
      "source": [
        "print(len(review_lens),len(encoded_labels))"
      ],
      "metadata": {
        "colab": {
          "base_uri": "https://localhost:8080/"
        },
        "id": "V1rE8ruC0nKC",
        "outputId": "3fe8038c-616e-4865-f288-785c74fb6acb"
      },
      "execution_count": 19,
      "outputs": [
        {
          "output_type": "stream",
          "name": "stdout",
          "text": [
            "65 25000\n"
          ]
        }
      ]
    },
    {
      "cell_type": "code",
      "execution_count": 20,
      "metadata": {
        "collapsed": true,
        "colab": {
          "base_uri": "https://localhost:8080/"
        },
        "id": "4rM4TeyEA7Jf",
        "outputId": "18effd16-e2ff-43a5-9e1c-ddf4fb6daaf4"
      },
      "outputs": [
        {
          "output_type": "stream",
          "name": "stdout",
          "text": [
            "Number of reviews after removing outliers:  73\n",
            "Number of labels after removing outliers:  73\n"
          ]
        }
      ],
      "source": [
        "# Find indices of non-zero length reviews\n",
        "non_zero_idx = [ii for ii, review in enumerate(reviews_ints) if len(review) != 0]\n",
        "\n",
        "# Remove zero-length reviews and their corresponding labels using the same indices\n",
        "reviews_ints = [reviews_ints[ii] for ii in non_zero_idx]\n",
        "encoded_labels = [encoded_labels[ii] for ii in non_zero_idx]  # This must be a list, not a NumPy array\n",
        "\n",
        "# Check lengths after filtering\n",
        "print('Number of reviews after removing outliers: ', len(reviews_ints))\n",
        "print('Number of labels after removing outliers: ', len(encoded_labels))\n"
      ]
    },
    {
      "cell_type": "markdown",
      "metadata": {
        "id": "-YUfDpDsA7Jf"
      },
      "source": [
        "---\n",
        "## Padding sequences\n",
        "\n",
        "To deal with both short and very long reviews, we'll pad or truncate all our reviews to a specific length. For reviews shorter than some `seq_length`, we'll pad with 0s. For reviews longer than `seq_length`, we can truncate them to the first `seq_length` words. A good `seq_length`, in this case, is 200.\n",
        "\n",
        "> **Exercise:** Define a function that returns an array `features` that contains the padded data, of a standard size, that we'll pass to the network.\n",
        "* The data should come from `review_ints`, since we want to feed integers to the network.\n",
        "* Each row should be `seq_length` elements long.\n",
        "* For reviews shorter than `seq_length` words, **left pad** with 0s. That is, if the review is `['best', 'movie', 'ever']`, `[117, 18, 128]` as integers, the row will look like `[0, 0, 0, ..., 0, 117, 18, 128]`.\n",
        "* For reviews longer than `seq_length`, use only the first `seq_length` words as the feature vector.\n",
        "\n",
        "As a small example, if the `seq_length=10` and an input review is:\n",
        "```\n",
        "[117, 18, 128]\n",
        "```\n",
        "The resultant, padded sequence should be:\n",
        "\n",
        "```\n",
        "[0, 0, 0, 0, 0, 0, 0, 117, 18, 128]\n",
        "```\n",
        "\n",
        "**Your final `features` array should be a 2D array, with as many rows as there are reviews, and as many columns as the specified `seq_length`.**\n",
        "\n",
        "This isn't trivial and there are a bunch of ways to do this. But, if you're going to be building your own deep learning networks, you're going to have to get used to preparing your data."
      ]
    },
    {
      "cell_type": "code",
      "execution_count": 21,
      "metadata": {
        "collapsed": true,
        "id": "CWcI3RbaA7Jf"
      },
      "outputs": [],
      "source": [
        "def pad_features(reviews_ints, seq_length):\n",
        "    ''' Return features of review_ints, where each review is padded with 0's\n",
        "        or truncated to the input seq_length.\n",
        "    '''\n",
        "    features = []\n",
        "    # Iterate over each review\n",
        "    for review in reviews_ints:\n",
        "        # If the review is already the desired length\n",
        "        if len(review) == seq_length:\n",
        "            features.append(review)\n",
        "        # If the review is longer than the desired length, truncate it\n",
        "        elif len(review) > seq_length:\n",
        "            features.append(review[:seq_length])\n",
        "        # If the review is shorter than the desired length, pad it with 0's\n",
        "        else:\n",
        "            # Calculate how many zeros to add\n",
        "            padding = [0] * (seq_length - len(review))\n",
        "            features.append(padding + review)\n",
        "\n",
        "    features = np.array(features)\n",
        "    return features\n"
      ]
    },
    {
      "cell_type": "code",
      "execution_count": 22,
      "metadata": {
        "collapsed": true,
        "colab": {
          "base_uri": "https://localhost:8080/"
        },
        "id": "p1CPNGhQA7Jf",
        "outputId": "3f6e2a72-c1ac-4e5d-a58e-f928a090c345"
      },
      "outputs": [
        {
          "output_type": "stream",
          "name": "stdout",
          "text": [
            "[[   0    0    0    0    0    0    0    0    0    0]\n",
            " [  11   12    3  636  907  143   40    1  908  637]\n",
            " [   8   12  924    5   27    1  650  651    5    1]\n",
            " [1600   23  492   10  187  493  260  945 1601  946]\n",
            " [  15   91   27    3  163 1721    5   54    1  100]\n",
            " [   0    0    0    0    0    0    0    0    0    0]\n",
            " [1969    6  138 1970 1971    2 1972 1973   63    4]\n",
            " [   0    0    0    0    0    0    0    0    0    0]\n",
            " [   0    0    0    0    0    0    0    0    0    0]\n",
            " [ 245    1  174    4    3  119    7    3 2041  742]\n",
            " [   0    0    0    0    0    0    0    0    0    0]\n",
            " [  46   25   51  125  743   14    5  179    9 2097]\n",
            " [   9   68   81   11  111   24   45 1108    3  755]\n",
            " [   0    0    0    0    0    0    0    0    0    0]\n",
            " [   0    0    0    0    0    0    0    0    0    0]\n",
            " [   0    0    0    0    0    0    0    0    0    0]\n",
            " [   0    0    0    0    0    0    0    0    0    0]\n",
            " [   0    0    0    0    0    0    0    0    0    0]\n",
            " [   0    0    0    0    0    0    0    0    0    0]\n",
            " [   0    0    0    0    0    0    0    0    0   17]\n",
            " [1162  786   48 2314 1163   10   15  149   21  267]\n",
            " [   0    0    0    0    0    0    0    0    0    0]\n",
            " [   0    0    0    0    0    0    0    0    0    0]\n",
            " [ 231   21  114    1   76  120    2   21   70  364]\n",
            " [ 440  458 2433   15  459  296    7   39 1189  341]\n",
            " [   3   44  330  801  802 2498   15    2   35    4]\n",
            " [   0    0    0    0    0    0    0    0    0    0]\n",
            " [  61 2596 2597 2598   30  102    7 2599    2  308]\n",
            " [ 135   21  341    3  567    4 2628   36    9   59]\n",
            " [   0    0    0    0    0    0    0    0    0    0]]\n"
          ]
        }
      ],
      "source": [
        "# Test your implementation!\n",
        "\n",
        "seq_length = 200\n",
        "\n",
        "features = pad_features(reviews_ints, seq_length=seq_length)\n",
        "\n",
        "## test statements - do not change - ##\n",
        "assert len(features)==len(reviews_ints), \"Your features should have as many rows as reviews.\"\n",
        "assert len(features[0])==seq_length, \"Each feature row should contain seq_length values.\"\n",
        "\n",
        "# print first 10 values of the first 30 batches\n",
        "print(features[:30,:10])"
      ]
    },
    {
      "cell_type": "markdown",
      "metadata": {
        "id": "wnU2lucCA7Jg"
      },
      "source": [
        "## Training, Validation, Test\n",
        "\n",
        "With our data in nice shape, we'll split it into training, validation, and test sets.\n",
        "\n",
        "> **Exercise:** Create the training, validation, and test sets.\n",
        "* You'll need to create sets for the features and the labels, `train_x` and `train_y`, for example.\n",
        "* Define a split fraction, `split_frac` as the fraction of data to **keep** in the training set. Usually this is set to 0.8 or 0.9.\n",
        "* Whatever data is left will be split in half to create the validation and *testing* data."
      ]
    },
    {
      "cell_type": "code",
      "execution_count": 23,
      "metadata": {
        "collapsed": true,
        "colab": {
          "base_uri": "https://localhost:8080/"
        },
        "id": "ybLSOvJTA7Jg",
        "outputId": "5242063a-1cef-449c-c665-c052e5f9807d"
      },
      "outputs": [
        {
          "output_type": "stream",
          "name": "stdout",
          "text": [
            "\t\t\tFeature Shapes:\n",
            "Train set: \t\t(58, 200) \n",
            "Validation set: \t(7, 200) \n",
            "Test set: \t\t(8, 200)\n"
          ]
        }
      ],
      "source": [
        "split_frac = 0.8\n",
        "\n",
        "## split data into training, validation, and test data (features and labels, x and y)\n",
        "split_idx=int(len(features)*split_frac)\n",
        "train_x,remianing_x=features[:split_idx],features[split_idx:]\n",
        "train_y,remaining_y=encoded_labels[:split_idx],encoded_labels[split_idx:]\n",
        "\n",
        "test_idx=int(len(remianing_x)*0.5)\n",
        "val_x,test_x=remianing_x[:test_idx],remianing_x[test_idx:]\n",
        "val_y,test_y=remaining_y[:test_idx],remaining_y[test_idx:]\n",
        "\n",
        "## print out the shapes of your resultant feature data\n",
        "print(\"\\t\\t\\tFeature Shapes:\")\n",
        "print(\"Train set: \\t\\t{}\".format(train_x.shape),\n",
        "      \"\\nValidation set: \\t{}\".format(val_x.shape),\n",
        "      \"\\nTest set: \\t\\t{}\".format(test_x.shape))"
      ]
    },
    {
      "cell_type": "markdown",
      "metadata": {
        "id": "bnFsGksmA7Jg"
      },
      "source": [
        "**Check your work**\n",
        "\n",
        "With train, validation, and test fractions equal to 0.8, 0.1, 0.1, respectively, the final, feature data shapes should look like:\n",
        "```\n",
        "                    Feature Shapes:\n",
        "Train set: \t\t (20000, 200)\n",
        "Validation set: \t(2500, 200)\n",
        "Test set: \t\t  (2500, 200)\n",
        "```"
      ]
    },
    {
      "cell_type": "markdown",
      "metadata": {
        "id": "C0rN-xnRA7Jg"
      },
      "source": [
        "---\n",
        "## DataLoaders and Batching\n",
        "\n",
        "After creating training, test, and validation data, we can create DataLoaders for this data by following two steps:\n",
        "1. Create a known format for accessing our data, using [TensorDataset](https://pytorch.org/docs/stable/data.html#) which takes in an input set of data and a target set of data with the same first dimension, and creates a dataset.\n",
        "2. Create DataLoaders and batch our training, validation, and test Tensor datasets.\n",
        "\n",
        "```\n",
        "train_data = TensorDataset(torch.from_numpy(train_x), torch.from_numpy(train_y))\n",
        "train_loader = DataLoader(train_data, batch_size=batch_size)\n",
        "```\n",
        "\n",
        "This is an alternative to creating a generator function for batching our data into full batches."
      ]
    },
    {
      "cell_type": "code",
      "source": [
        "reviews = []  # Ensure reviews is a list\n",
        "labels = []   # Ensure labels is a list\n",
        "\n",
        "for label in [\"pos\", \"neg\"]:\n",
        "    dir_path = os.path.join(train_dir, label)\n",
        "    for filename in os.listdir(dir_path):\n",
        "        with open(os.path.join(dir_path, filename), \"r\", encoding=\"utf-8\") as file:\n",
        "            reviews.append(file.read())  # Append review content to the list\n",
        "            labels.append(label)         # Append the label ('pos' or 'neg') to the list\n"
      ],
      "metadata": {
        "id": "UBqKvRIhN98N"
      },
      "execution_count": 24,
      "outputs": []
    },
    {
      "cell_type": "code",
      "execution_count": 25,
      "metadata": {
        "collapsed": true,
        "colab": {
          "base_uri": "https://localhost:8080/"
        },
        "id": "9DZYqzuVA7Jg",
        "outputId": "de9e80f5-158a-42e8-a63f-62c510c2a108"
      },
      "outputs": [
        {
          "output_type": "stream",
          "name": "stdout",
          "text": [
            "Train loader batches: 400\n",
            "Validation loader batches: 50\n",
            "Test loader batches: 50\n"
          ]
        }
      ],
      "source": [
        "import os\n",
        "import numpy as np\n",
        "import torch\n",
        "from torch.utils.data import TensorDataset, DataLoader\n",
        "from collections import Counter\n",
        "\n",
        "# Example: Assuming you already have the raw text data\n",
        "# Let's assume `reviews` is the list of reviews and `labels` is the list of corresponding labels\n",
        "\n",
        "# Step 1: Tokenize the reviews (if not already done)\n",
        "# Create a vocabulary and map words to integers\n",
        "all_text = ' '.join(reviews)  # Join all reviews into one big string\n",
        "words = all_text.split()  # Split into individual words\n",
        "counts = Counter(words)  # Count the frequency of each word\n",
        "vocab = sorted(counts, key=counts.get, reverse=True)  # Sort by frequency\n",
        "vocab_to_int = {word: ii for ii, word in enumerate(vocab, 1)}  # Mapping from word to integer\n",
        "\n",
        "# Tokenize the reviews using the vocab_to_int dictionary\n",
        "train_x_tokenized = [[vocab_to_int[word] for word in review.split() if word in vocab_to_int] for review in reviews]\n",
        "\n",
        "# Step 2: Convert labels to integers (0 for negative, 1 for positive)\n",
        "encoded_labels = np.array([1 if label == 'pos' else 0 for label in labels])\n",
        "\n",
        "# Step 3: Split data into training, validation, and test sets\n",
        "train_x, val_x, test_x = train_x_tokenized[:20000], train_x_tokenized[20000:22500], train_x_tokenized[22500:]\n",
        "train_y, val_y, test_y = encoded_labels[:20000], encoded_labels[20000:22500], encoded_labels[22500:]\n",
        "\n",
        "# Step 4: Padding sequences to the same length\n",
        "def pad_sequences(sequences, max_len):\n",
        "    return [seq + [0] * (max_len - len(seq)) if len(seq) < max_len else seq[:max_len] for seq in sequences]\n",
        "\n",
        "# Find the maximum length of a review to use for padding\n",
        "max_len = max([len(review) for review in train_x])\n",
        "\n",
        "# Pad all sequences to have the same length\n",
        "train_x = pad_sequences(train_x, max_len)\n",
        "val_x = pad_sequences(val_x, max_len)\n",
        "test_x = pad_sequences(test_x, max_len)\n",
        "\n",
        "# Step 5: Create Tensor datasets\n",
        "train_data = TensorDataset(torch.tensor(train_x, dtype=torch.long), torch.tensor(train_y, dtype=torch.long))\n",
        "valid_data = TensorDataset(torch.tensor(val_x, dtype=torch.long), torch.tensor(val_y, dtype=torch.long))\n",
        "test_data = TensorDataset(torch.tensor(test_x, dtype=torch.long), torch.tensor(test_y, dtype=torch.long))\n",
        "\n",
        "# Step 6: Create DataLoaders\n",
        "batch_size = 50\n",
        "train_loader = DataLoader(train_data, shuffle=True, batch_size=batch_size)\n",
        "valid_loader = DataLoader(valid_data, shuffle=True, batch_size=batch_size)\n",
        "test_loader = DataLoader(test_data, shuffle=True, batch_size=batch_size)\n",
        "\n",
        "# Print the number of batches in each DataLoader\n",
        "print(f\"Train loader batches: {len(train_loader)}\")\n",
        "print(f\"Validation loader batches: {len(valid_loader)}\")\n",
        "print(f\"Test loader batches: {len(test_loader)}\")\n"
      ]
    },
    {
      "cell_type": "code",
      "execution_count": 26,
      "metadata": {
        "collapsed": true,
        "colab": {
          "base_uri": "https://localhost:8080/"
        },
        "id": "snYEf-neA7Jg",
        "outputId": "8a425b62-d5bf-4061-b9b3-5adcc1f31241"
      },
      "outputs": [
        {
          "output_type": "stream",
          "name": "stdout",
          "text": [
            "Sample input size:  torch.Size([50, 2470])\n",
            "Sample input: \n",
            " tensor([[     8,    128,     10,  ...,      0,      0,      0],\n",
            "        [   322, 133976,     16,  ...,      0,      0,      0],\n",
            "        [   324,    290,     15,  ...,      0,      0,      0],\n",
            "        ...,\n",
            "        [   550,     58,     67,  ...,      0,      0,      0],\n",
            "        [   322,      4,      1,  ...,      0,      0,      0],\n",
            "        [    55,      6,     25,  ...,      0,      0,      0]])\n",
            "\n",
            "Sample label size:  torch.Size([50])\n",
            "Sample label: \n",
            " tensor([1, 1, 1, 0, 1, 1, 1, 1, 0, 0, 1, 1, 1, 0, 1, 0, 1, 1, 1, 1, 1, 0, 0, 0,\n",
            "        1, 1, 1, 0, 1, 0, 0, 1, 0, 1, 1, 1, 1, 1, 0, 1, 0, 1, 1, 0, 0, 0, 1, 0,\n",
            "        1, 1])\n"
          ]
        }
      ],
      "source": [
        "# obtain one batch of training data\n",
        "sample_x, sample_y = next(iter(train_loader))\n",
        "\n",
        "print('Sample input size: ', sample_x.size()) # batch_size, seq_length\n",
        "print('Sample input: \\n', sample_x)\n",
        "print()\n",
        "print('Sample label size: ', sample_y.size()) # batch_size\n",
        "print('Sample label: \\n', sample_y)"
      ]
    },
    {
      "cell_type": "markdown",
      "metadata": {
        "id": "36n4pes6A7Jg"
      },
      "source": [
        "---\n",
        "# Sentiment Network with PyTorch\n",
        "\n",
        "Below is where you'll define the network.\n",
        "\n",
        "<img src=\"assets/network_diagram.png\" width=40%>\n",
        "\n",
        "The layers are as follows:\n",
        "1. An [embedding layer](https://pytorch.org/docs/stable/nn.html#embedding) that converts our word tokens (integers) into embeddings of a specific size.\n",
        "2. An [LSTM layer](https://pytorch.org/docs/stable/nn.html#lstm) defined by a hidden_state size and number of layers\n",
        "3. A fully-connected output layer that maps the LSTM layer outputs to a desired output_size\n",
        "4. A sigmoid activation layer which turns all outputs into a value 0-1; return **only the last sigmoid output** as the output of this network.\n",
        "\n",
        "### The Embedding Layer\n",
        "\n",
        "We need to add an [embedding layer](https://pytorch.org/docs/stable/nn.html#embedding) because there are 74000+ words in our vocabulary. It is massively inefficient to one-hot encode that many classes. So, instead of one-hot encoding, we can have an embedding layer and use that layer as a lookup table. You could train an embedding layer using Word2Vec, then load it here. But, it's fine to just make a new layer, using it for only dimensionality reduction, and let the network learn the weights.\n",
        "\n",
        "\n",
        "### The LSTM Layer(s)\n",
        "\n",
        "We'll create an [LSTM](https://pytorch.org/docs/stable/nn.html#lstm) to use in our recurrent network, which takes in an input_size, a hidden_dim, a number of layers, a dropout probability (for dropout between multiple layers), and a batch_first parameter.\n",
        "\n",
        "Most of the time, your network will have better performance with more layers; between 2-3. Adding more layers allows the network to learn really complex relationships.\n",
        "\n",
        "> **Exercise:** Complete the `__init__`, `forward`, and `init_hidden` functions for the SentimentRNN model class.\n",
        "\n",
        "Note: `init_hidden` should initialize the hidden and cell state of an lstm layer to all zeros, and move those state to GPU, if available."
      ]
    },
    {
      "cell_type": "code",
      "execution_count": 27,
      "metadata": {
        "collapsed": true,
        "colab": {
          "base_uri": "https://localhost:8080/"
        },
        "id": "-QUe-S6yA7Jg",
        "outputId": "bda8a2a8-5d4f-4183-9a6c-ef95efed3b16"
      },
      "outputs": [
        {
          "output_type": "stream",
          "name": "stdout",
          "text": [
            "Training on GPU.\n"
          ]
        }
      ],
      "source": [
        "# First checking if GPU is available\n",
        "train_on_gpu=torch.cuda.is_available()\n",
        "\n",
        "if(train_on_gpu):\n",
        "    print('Training on GPU.')\n",
        "else:\n",
        "    print('No GPU available, training on CPU.')"
      ]
    },
    {
      "cell_type": "code",
      "execution_count": 28,
      "metadata": {
        "collapsed": true,
        "id": "auY9N0i8A7Jg"
      },
      "outputs": [],
      "source": [
        "import torch.nn as nn\n",
        "\n",
        "class SentimentRNN(nn.Module):\n",
        "    \"\"\"\n",
        "    The RNN model that will be used to perform Sentiment analysis.\n",
        "    \"\"\"\n",
        "\n",
        "    def __init__(self, vocab_size, output_size, embedding_dim, hidden_dim, n_layers, drop_prob=0.5):\n",
        "        \"\"\"\n",
        "        Initialize the model by setting up the layers.\n",
        "        \"\"\"\n",
        "        super(SentimentRNN, self).__init__()\n",
        "\n",
        "        self.output_size = output_size\n",
        "        self.n_layers = n_layers\n",
        "        self.hidden_dim = hidden_dim\n",
        "\n",
        "        # embedding and LSTM layers\n",
        "        self.embedding = nn.Embedding(vocab_size, embedding_dim)\n",
        "        self.lstm = nn.LSTM(embedding_dim, hidden_dim, n_layers,\n",
        "                            dropout=drop_prob, batch_first=True)\n",
        "\n",
        "        # dropout layer\n",
        "        self.dropout = nn.Dropout(0.3)\n",
        "\n",
        "        # linear and sigmoid layers\n",
        "        self.fc = nn.Linear(hidden_dim, output_size)\n",
        "        self.sig = nn.Sigmoid()\n",
        "        # define all layers\n",
        "\n",
        "\n",
        "    def forward(self, x, hidden):\n",
        "        \"\"\"\n",
        "        Perform a forward pass of our model on some input and hidden state.\n",
        "        \"\"\"\n",
        "        batch_size = x.size(0)\n",
        "\n",
        "        # embeddings and lstm_out\n",
        "        embeds = self.embedding(x)\n",
        "        lstm_out, hidden = self.lstm(embeds, hidden)\n",
        "\n",
        "        # stack up lstm outputs\n",
        "        lstm_out = lstm_out.contiguous().view(-1, self.hidden_dim)\n",
        "\n",
        "        # dropout and fully-connected layer\n",
        "        out = self.dropout(lstm_out)\n",
        "        out = self.fc(out)\n",
        "\n",
        "        # sigmoid function\n",
        "        sig_out = self.sig(out)\n",
        "\n",
        "        # reshape to be batch_size first\n",
        "        sig_out = sig_out.view(batch_size, -1)\n",
        "        sig_out = sig_out[:, -1] # get last batch of labels\n",
        "\n",
        "        # return last sigmoid output and hidden state\n",
        "        return sig_out, hidden\n",
        "\n",
        "\n",
        "    def init_hidden(self, batch_size):\n",
        "        ''' Initializes hidden state '''\n",
        "        # Create two new tensors with sizes n_layers x batch_size x hidden_dim,\n",
        "        # initialized to zero, for hidden state and cell state of LSTM\n",
        "        weight = next(self.parameters()).data\n",
        "\n",
        "        if (train_on_gpu):\n",
        "            hidden = (weight.new(self.n_layers, batch_size, self.hidden_dim).zero_().cuda(),\n",
        "                  weight.new(self.n_layers, batch_size, self.hidden_dim).zero_().cuda())\n",
        "        else:\n",
        "            hidden = (weight.new(self.n_layers, batch_size, self.hidden_dim).zero_(),\n",
        "                      weight.new(self.n_layers, batch_size, self.hidden_dim).zero_())\n",
        "\n",
        "        return hidden\n",
        ""
      ]
    },
    {
      "cell_type": "markdown",
      "metadata": {
        "id": "ycjjaWY7A7Jg"
      },
      "source": [
        "## Instantiate the network\n",
        "\n",
        "Here, we'll instantiate the network. First up, defining the hyperparameters.\n",
        "\n",
        "* `vocab_size`: Size of our vocabulary or the range of values for our input, word tokens.\n",
        "* `output_size`: Size of our desired output; the number of class scores we want to output (pos/neg).\n",
        "* `embedding_dim`: Number of columns in the embedding lookup table; size of our embeddings.\n",
        "* `hidden_dim`: Number of units in the hidden layers of our LSTM cells. Usually larger is better performance wise. Common values are 128, 256, 512, etc.\n",
        "* `n_layers`: Number of LSTM layers in the network. Typically between 1-3\n",
        "\n",
        "> **Exercise:** Define the model  hyperparameters.\n"
      ]
    },
    {
      "cell_type": "code",
      "execution_count": 29,
      "metadata": {
        "collapsed": true,
        "colab": {
          "base_uri": "https://localhost:8080/"
        },
        "id": "oVJKUIt8A7Jg",
        "outputId": "02646e14-f5ee-497e-dce6-ff713bbd4a04"
      },
      "outputs": [
        {
          "output_type": "stream",
          "name": "stdout",
          "text": [
            "SentimentRNN(\n",
            "  (embedding): Embedding(280618, 400)\n",
            "  (lstm): LSTM(400, 256, num_layers=3, batch_first=True, dropout=0.5)\n",
            "  (dropout): Dropout(p=0.3, inplace=False)\n",
            "  (fc): Linear(in_features=256, out_features=1, bias=True)\n",
            "  (sig): Sigmoid()\n",
            ")\n"
          ]
        }
      ],
      "source": [
        "# Instantiate the model w/ hyperparams\n",
        "vocab_size = len(vocab_to_int)+1 # +1 for the 0 padding + our word tokens\n",
        "output_size = 1\n",
        "embedding_dim = 400\n",
        "hidden_dim = 256\n",
        "n_layers = 3\n",
        "\n",
        "net = SentimentRNN(vocab_size, output_size, embedding_dim, hidden_dim, n_layers)\n",
        "\n",
        "print(net)"
      ]
    },
    {
      "cell_type": "markdown",
      "metadata": {
        "id": "8Q48SzdLA7Jg"
      },
      "source": [
        "---\n",
        "## Training\n",
        "\n",
        "Below is the typical training code. If you want to do this yourself, feel free to delete all this code and implement it yourself. You can also add code to save a model by name.\n",
        "\n",
        ">We'll also be using a new kind of cross entropy loss, which is designed to work with a single Sigmoid output. [BCELoss](https://pytorch.org/docs/stable/nn.html#bceloss), or **Binary Cross Entropy Loss**, applies cross entropy loss to a single value between 0 and 1.\n",
        "\n",
        "We also have some data and training hyparameters:\n",
        "\n",
        "* `lr`: Learning rate for our optimizer.\n",
        "* `epochs`: Number of times to iterate through the training dataset.\n",
        "* `clip`: The maximum gradient value to clip at (to prevent exploding gradients)."
      ]
    },
    {
      "cell_type": "code",
      "execution_count": 30,
      "metadata": {
        "collapsed": true,
        "id": "Xfc4uVtDA7Jg"
      },
      "outputs": [],
      "source": [
        "# loss and optimization functions\n",
        "lr=0.001\n",
        "\n",
        "criterion = nn.BCELoss()\n",
        "optimizer = torch.optim.Adam(net.parameters(), lr=lr)\n"
      ]
    },
    {
      "cell_type": "code",
      "execution_count": 31,
      "metadata": {
        "collapsed": true,
        "colab": {
          "base_uri": "https://localhost:8080/"
        },
        "id": "V9sIPxKCA7Jg",
        "outputId": "2caf1051-3a8b-4dbb-d939-15491912fabd"
      },
      "outputs": [
        {
          "output_type": "stream",
          "name": "stdout",
          "text": [
            "Epoch: 1/4... Step: 100... Loss: 0.684088... Val Loss: 0.912759\n",
            "Epoch: 1/4... Step: 200... Loss: 0.662952... Val Loss: 0.989236\n",
            "Epoch: 1/4... Step: 300... Loss: 0.656945... Val Loss: 0.938348\n",
            "Epoch: 1/4... Step: 400... Loss: 0.688335... Val Loss: 0.971448\n",
            "Epoch: 2/4... Step: 500... Loss: 0.625289... Val Loss: 0.933536\n",
            "Epoch: 2/4... Step: 600... Loss: 0.697756... Val Loss: 0.940732\n",
            "Epoch: 2/4... Step: 700... Loss: 0.704375... Val Loss: 0.986674\n",
            "Epoch: 2/4... Step: 800... Loss: 0.657931... Val Loss: 0.941590\n",
            "Epoch: 3/4... Step: 900... Loss: 0.669762... Val Loss: 1.004059\n",
            "Epoch: 3/4... Step: 1000... Loss: 0.650716... Val Loss: 0.986236\n",
            "Epoch: 3/4... Step: 1100... Loss: 0.628599... Val Loss: 0.944866\n",
            "Epoch: 3/4... Step: 1200... Loss: 0.662891... Val Loss: 0.997624\n",
            "Epoch: 4/4... Step: 1300... Loss: 0.693860... Val Loss: 0.960336\n",
            "Epoch: 4/4... Step: 1400... Loss: 0.733690... Val Loss: 1.014971\n",
            "Epoch: 4/4... Step: 1500... Loss: 0.686235... Val Loss: 1.013131\n",
            "Epoch: 4/4... Step: 1600... Loss: 0.665071... Val Loss: 0.927848\n"
          ]
        }
      ],
      "source": [
        "# training params\n",
        "\n",
        "epochs = 4 # 3-4 is approx where I noticed the validation loss stop decreasing\n",
        "\n",
        "counter = 0\n",
        "print_every = 100\n",
        "clip=5 # gradient clipping\n",
        "\n",
        "# move model to GPU, if available\n",
        "if(train_on_gpu):\n",
        "    net.cuda()\n",
        "\n",
        "net.train()\n",
        "# train for some number of epochs\n",
        "for e in range(epochs):\n",
        "    # initialize hidden state\n",
        "    h = net.init_hidden(batch_size)\n",
        "\n",
        "    # batch loop\n",
        "    for inputs, labels in train_loader:\n",
        "        counter += 1\n",
        "\n",
        "        if(train_on_gpu):\n",
        "            inputs, labels = inputs.cuda(), labels.cuda()\n",
        "\n",
        "        # Creating new variables for the hidden state, otherwise\n",
        "        # we'd backprop through the entire training history\n",
        "        h = tuple([each.data for each in h])\n",
        "\n",
        "        # zero accumulated gradients\n",
        "        net.zero_grad()\n",
        "\n",
        "        # get the output from the model\n",
        "        output, h = net(inputs, h)\n",
        "\n",
        "        # calculate the loss and perform backprop\n",
        "        loss = criterion(output.squeeze(), labels.float())\n",
        "        loss.backward()\n",
        "        # `clip_grad_norm` helps prevent the exploding gradient problem in RNNs / LSTMs.\n",
        "        nn.utils.clip_grad_norm_(net.parameters(), clip)\n",
        "        optimizer.step()\n",
        "\n",
        "        # loss stats\n",
        "        if counter % print_every == 0:\n",
        "            # Get validation loss\n",
        "            val_h = net.init_hidden(batch_size)\n",
        "            val_losses = []\n",
        "            net.eval()\n",
        "            for inputs, labels in valid_loader:\n",
        "\n",
        "                # Creating new variables for the hidden state, otherwise\n",
        "                # we'd backprop through the entire training history\n",
        "                val_h = tuple([each.data for each in val_h])\n",
        "\n",
        "                if(train_on_gpu):\n",
        "                    inputs, labels = inputs.cuda(), labels.cuda()\n",
        "\n",
        "                output, val_h = net(inputs, val_h)\n",
        "                val_loss = criterion(output.squeeze(), labels.float())\n",
        "\n",
        "                val_losses.append(val_loss.item())\n",
        "\n",
        "            net.train()\n",
        "            print(\"Epoch: {}/{}...\".format(e+1, epochs),\n",
        "                  \"Step: {}...\".format(counter),\n",
        "                  \"Loss: {:.6f}...\".format(loss.item()),\n",
        "                  \"Val Loss: {:.6f}\".format(np.mean(val_losses)))"
      ]
    },
    {
      "cell_type": "markdown",
      "metadata": {
        "id": "0jmTK3HuA7Jg"
      },
      "source": [
        "---\n",
        "## Testing\n",
        "\n",
        "There are a few ways to test your network.\n",
        "\n",
        "* **Test data performance:** First, we'll see how our trained model performs on all of our defined test_data, above. We'll calculate the average loss and accuracy over the test data.\n",
        "\n",
        "* **Inference on user-generated data:** Second, we'll see if we can input just one example review at a time (without a label), and see what the trained model predicts. Looking at new, user input data like this, and predicting an output label, is called **inference**."
      ]
    },
    {
      "cell_type": "code",
      "execution_count": 32,
      "metadata": {
        "collapsed": true,
        "colab": {
          "base_uri": "https://localhost:8080/"
        },
        "id": "8_23PD--A7Jg",
        "outputId": "ed44ba51-02b4-4cfb-cd97-7a469028c822"
      },
      "outputs": [
        {
          "output_type": "stream",
          "name": "stdout",
          "text": [
            "Test loss: 0.928\n",
            "Test accuracy: 0.000\n"
          ]
        }
      ],
      "source": [
        "# Get test data loss and accuracy\n",
        "\n",
        "test_losses = [] # track loss\n",
        "num_correct = 0\n",
        "\n",
        "# init hidden state\n",
        "h = net.init_hidden(batch_size)\n",
        "\n",
        "net.eval()\n",
        "# iterate over test data\n",
        "for inputs, labels in test_loader:\n",
        "\n",
        "    # Creating new variables for the hidden state, otherwise\n",
        "    # we'd backprop through the entire training history\n",
        "    h = tuple([each.data for each in h])\n",
        "\n",
        "    if(train_on_gpu):\n",
        "        inputs, labels = inputs.cuda(), labels.cuda()\n",
        "\n",
        "    # get predicted outputs\n",
        "    output, h = net(inputs, h)\n",
        "\n",
        "    # calculate loss\n",
        "    test_loss = criterion(output.squeeze(), labels.float())\n",
        "    test_losses.append(test_loss.item())\n",
        "\n",
        "    # convert output probabilities to predicted class (0 or 1)\n",
        "    pred = torch.round(output.squeeze())  # rounds to the nearest integer\n",
        "\n",
        "    # compare predictions to true label\n",
        "    correct_tensor = pred.eq(labels.float().view_as(pred))\n",
        "    correct = np.squeeze(correct_tensor.numpy()) if not train_on_gpu else np.squeeze(correct_tensor.cpu().numpy())\n",
        "    num_correct += np.sum(correct)\n",
        "\n",
        "\n",
        "# -- stats! -- ##\n",
        "# avg test loss\n",
        "print(\"Test loss: {:.3f}\".format(np.mean(test_losses)))\n",
        "\n",
        "# accuracy over all test data\n",
        "test_acc = num_correct/len(test_loader.dataset)\n",
        "print(\"Test accuracy: {:.3f}\".format(test_acc))"
      ]
    },
    {
      "cell_type": "markdown",
      "metadata": {
        "id": "gIsd9mkTA7Jg"
      },
      "source": [
        "### Inference on a test review\n",
        "\n",
        "You can change this test_review to any text that you want. Read it and think: is it pos or neg? Then see if your model predicts correctly!\n",
        "    \n",
        "> **Exercise:** Write a `predict` function that takes in a trained net, a plain text_review, and a sequence length, and prints out a custom statement for a positive or negative review!\n",
        "* You can use any functions that you've already defined or define any helper functions you want to complete `predict`, but it should just take in a trained net, a text review, and a sequence length.\n"
      ]
    },
    {
      "cell_type": "code",
      "execution_count": 33,
      "metadata": {
        "collapsed": true,
        "id": "8sYZHqhUA7Jh"
      },
      "outputs": [],
      "source": [
        "# negative test review\n",
        "test_review_neg = 'The worst movie I have seen; acting was terrible and I want my money back. This movie had bad acting and the dialogue was slow.'\n"
      ]
    },
    {
      "cell_type": "code",
      "source": [
        "from string import punctuation\n",
        "\n",
        "def tokenize_review(test_review):\n",
        "    test_review = test_review.lower() # lowercase\n",
        "    # get rid of punctuation\n",
        "    test_text = ''.join([c for c in test_review if c not in punctuation])\n",
        "\n",
        "    # splitting by spaces\n",
        "    test_words = test_text.split()\n",
        "\n",
        "    # tokens\n",
        "    test_ints = []\n",
        "    test_ints.append([vocab_to_int[word] for word in test_words])\n",
        "\n",
        "    return test_ints"
      ],
      "metadata": {
        "id": "RfAWyIk3mmSZ"
      },
      "execution_count": 34,
      "outputs": []
    },
    {
      "cell_type": "code",
      "execution_count": 36,
      "metadata": {
        "collapsed": true,
        "id": "OolM-mV_A7Jj"
      },
      "outputs": [],
      "source": [
        "def predict(net, test_review, sequence_length=200):\n",
        "\n",
        "    net.eval()\n",
        "\n",
        "    # tokenize review\n",
        "    test_ints = tokenize_review(test_review)\n",
        "\n",
        "    # pad tokenized sequence\n",
        "    seq_length=sequence_length\n",
        "    features = pad_features(test_ints, seq_length)\n",
        "\n",
        "    # convert to tensor to pass into your model\n",
        "    feature_tensor = torch.from_numpy(features)\n",
        "\n",
        "    batch_size = feature_tensor.size(0)\n",
        "\n",
        "    # initialize hidden state\n",
        "    h = net.init_hidden(batch_size)\n",
        "\n",
        "    if(train_on_gpu):\n",
        "        feature_tensor = feature_tensor.cuda()\n",
        "\n",
        "    # get the output from the model\n",
        "    output, h = net(feature_tensor, h)\n",
        "\n",
        "    # convert output probabilities to predicted class (0 or 1)\n",
        "    pred = torch.round(output.squeeze())\n",
        "    # printing output value, before rounding\n",
        "    print('Prediction value, pre-rounding: {:.6f}'.format(output.item()))\n",
        "\n",
        "    # print custom response\n",
        "    if(pred.item()==1):\n",
        "        print(\"Positive review detected!\")\n",
        "    else:\n",
        "        print(\"Negative review detected.\")"
      ]
    },
    {
      "cell_type": "code",
      "execution_count": 37,
      "metadata": {
        "id": "z2-wtBVrA7Jk"
      },
      "outputs": [],
      "source": [
        "# positive test review\n",
        "test_review_pos = 'This movie had the best acting and the dialogue was so good. I loved it.'\n"
      ]
    },
    {
      "cell_type": "code",
      "execution_count": 38,
      "metadata": {
        "collapsed": true,
        "colab": {
          "base_uri": "https://localhost:8080/"
        },
        "id": "ZyUW__sqA7Jk",
        "outputId": "88879b39-db7b-442f-f0ba-f68af62f4021"
      },
      "outputs": [
        {
          "output_type": "stream",
          "name": "stdout",
          "text": [
            "Prediction value, pre-rounding: 0.592256\n",
            "Positive review detected!\n"
          ]
        }
      ],
      "source": [
        "# call function\n",
        "# try negative and positive reviews!\n",
        "seq_length=200\n",
        "predict(net, test_review_neg, seq_length)"
      ]
    },
    {
      "cell_type": "markdown",
      "metadata": {
        "id": "VIlKx60pA7Jk"
      },
      "source": [
        "### Try out test_reviews of your own!\n",
        "\n",
        "Now that you have a trained model and a predict function, you can pass in _any_ kind of text and this model will predict whether the text has a positive or negative sentiment. Push this model to its limits and try to find what words it associates with positive or negative.\n",
        "\n",
        "Later, you'll learn how to deploy a model like this to a production environment so that it can respond to any kind of user data put into a web app!"
      ]
    },
    {
      "cell_type": "code",
      "execution_count": null,
      "metadata": {
        "collapsed": true,
        "id": "KOYSzzTaA7Jk"
      },
      "outputs": [],
      "source": []
    }
  ],
  "metadata": {
    "kernelspec": {
      "display_name": "Python 3",
      "name": "python3"
    },
    "language_info": {
      "codemirror_mode": {
        "name": "ipython",
        "version": 3
      },
      "file_extension": ".py",
      "mimetype": "text/x-python",
      "name": "python",
      "nbconvert_exporter": "python",
      "pygments_lexer": "ipython3",
      "version": "3.6.3"
    },
    "colab": {
      "provenance": [],
      "gpuType": "T4",
      "include_colab_link": true
    },
    "accelerator": "GPU"
  },
  "nbformat": 4,
  "nbformat_minor": 0
}
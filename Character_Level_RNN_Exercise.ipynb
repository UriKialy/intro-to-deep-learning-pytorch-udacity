{
  "cells": [
    {
      "cell_type": "markdown",
      "metadata": {
        "id": "view-in-github",
        "colab_type": "text"
      },
      "source": [
        "<a href=\"https://colab.research.google.com/github/UriKialy/intro-to-deep-learning-pytorch-udacity/blob/main/Character_Level_RNN_Exercise.ipynb\" target=\"_parent\"><img src=\"https://colab.research.google.com/assets/colab-badge.svg\" alt=\"Open In Colab\"/></a>"
      ]
    },
    {
      "cell_type": "markdown",
      "metadata": {
        "id": "Qv-ZFMx6onLX"
      },
      "source": [
        "# Character-Level LSTM in PyTorch\n",
        "\n",
        "In this notebook, I'll construct a character-level LSTM with PyTorch. The network will train character by character on some text, then generate new text character by character. As an example, I will train on Anna Karenina. **This model will be able to generate new text based on the text from the book!**\n",
        "\n",
        "This network is based off of Andrej Karpathy's [post on RNNs](http://karpathy.github.io/2015/05/21/rnn-effectiveness/) and [implementation in Torch](https://github.com/karpathy/char-rnn). Below is the general architecture of the character-wise RNN.\n",
        "\n",
        "<img src=\"assets/charseq.jpeg\" width=\"500\">"
      ]
    },
    {
      "cell_type": "markdown",
      "metadata": {
        "id": "TUZWml4ponLX"
      },
      "source": [
        "First let's load in our required resources for data loading and model creation."
      ]
    },
    {
      "cell_type": "code",
      "execution_count": 1,
      "metadata": {
        "collapsed": true,
        "id": "3fWn9V2RonLY"
      },
      "outputs": [],
      "source": [
        "import numpy as np\n",
        "import torch\n",
        "from torch import nn\n",
        "import torch.nn.functional as F"
      ]
    },
    {
      "cell_type": "markdown",
      "metadata": {
        "id": "5S1A7nFionLY"
      },
      "source": [
        "## Load in Data\n",
        "\n",
        "Then, we'll load the Anna Karenina text file and convert it into integers for our network to use."
      ]
    },
    {
      "cell_type": "code",
      "source": [
        "# Download \"Anna Karenina\" from Project Gutenberg\n",
        "import requests\n",
        "\n",
        "# URL of the plain text version of \"Anna Karenina\" from Project Gutenberg\n",
        "url = \"https://www.gutenberg.org/files/1399/1399-0.txt\"\n",
        "\n",
        "# Download the text file\n",
        "response = requests.get(url)\n",
        "\n",
        "# Save it to a local file in Colab\n",
        "with open(\"anna_karenina.txt\", \"w\", encoding=\"utf-8\") as file:\n",
        "    file.write(response.text)\n",
        "\n",
        "print(\"Anna Karenina has been downloaded and saved as 'anna_karenina.txt'\")\n"
      ],
      "metadata": {
        "colab": {
          "base_uri": "https://localhost:8080/"
        },
        "id": "IubUyl0cspHC",
        "outputId": "63b2057d-2e15-4506-8053-30ac396e6a3f"
      },
      "execution_count": 2,
      "outputs": [
        {
          "output_type": "stream",
          "name": "stdout",
          "text": [
            "Anna Karenina has been downloaded and saved as 'anna_karenina.txt'\n"
          ]
        }
      ]
    },
    {
      "cell_type": "code",
      "execution_count": 3,
      "metadata": {
        "collapsed": true,
        "id": "pj_-A2pZonLY"
      },
      "outputs": [],
      "source": [
        "# open text file and read in data as `text`\n",
        "with open('anna_karenina.txt', 'r') as f:\n",
        "    text = f.read()"
      ]
    },
    {
      "cell_type": "markdown",
      "metadata": {
        "id": "HnkKTXF5onLY"
      },
      "source": [
        "Let's check out the first 100 characters, make sure everything is peachy. According to the [American Book Review](http://americanbookreview.org/100bestlines.asp), this is the 6th best first line of a book ever."
      ]
    },
    {
      "cell_type": "code",
      "execution_count": 4,
      "metadata": {
        "collapsed": true,
        "colab": {
          "base_uri": "https://localhost:8080/",
          "height": 35
        },
        "id": "Cjr_XVMuonLY",
        "outputId": "50960c89-7451-49e4-f9da-7c57d85758e6"
      },
      "outputs": [
        {
          "output_type": "execute_result",
          "data": {
            "text/plain": [
              "'*** START OF THE PROJECT GUTENBERG EBOOK 1399 ***\\n\\n[Illustration]\\n\\n\\n\\n\\n ANNA KARENINA \\n\\n by Leo Tolst'"
            ],
            "application/vnd.google.colaboratory.intrinsic+json": {
              "type": "string"
            }
          },
          "metadata": {},
          "execution_count": 4
        }
      ],
      "source": [
        "text[:100]"
      ]
    },
    {
      "cell_type": "markdown",
      "metadata": {
        "id": "0dhSrkmdonLZ"
      },
      "source": [
        "### Tokenization\n",
        "\n",
        "In the cells, below, I'm creating a couple of **dictionaries** to convert the characters to and from integers. Encoding the characters as integers makes it easier to use as input in the network."
      ]
    },
    {
      "cell_type": "code",
      "execution_count": 5,
      "metadata": {
        "collapsed": true,
        "id": "iELGqLQxonLZ"
      },
      "outputs": [],
      "source": [
        "# encode the text and map each character to an integer and vice versa\n",
        "\n",
        "# we create two dictionaries:\n",
        "# 1. int2char, which maps integers to characters\n",
        "# 2. char2int, which maps characters to unique integers\n",
        "chars = tuple(set(text))\n",
        "int2char = dict(enumerate(chars))\n",
        "char2int = {ch: ii for ii, ch in int2char.items()}\n",
        "\n",
        "# encode the text\n",
        "encoded = np.array([char2int[ch] for ch in text])"
      ]
    },
    {
      "cell_type": "markdown",
      "metadata": {
        "id": "MfpJkyZronLZ"
      },
      "source": [
        "And we can see those same characters from above, encoded as integers."
      ]
    },
    {
      "cell_type": "code",
      "execution_count": 6,
      "metadata": {
        "collapsed": true,
        "colab": {
          "base_uri": "https://localhost:8080/"
        },
        "id": "AsTjnBlZonLZ",
        "outputId": "60a34110-a338-426e-eac7-5c056177cea2"
      },
      "outputs": [
        {
          "output_type": "execute_result",
          "data": {
            "text/plain": [
              "array([41, 41, 41, 54, 45, 31, 53, 35, 31, 54, 90, 79, 54, 31, 78, 87, 54,\n",
              "       40, 35, 90, 58, 87,  3, 31, 54,  8, 91, 31, 87, 42, 96, 87, 35,  8,\n",
              "       54, 87, 96, 90, 90, 25, 54, 10,  0, 14, 14, 54, 41, 41, 41,  2,  2,\n",
              "       57, 89, 67, 67, 29, 15, 70,  4, 30, 70, 21, 17, 44, 32,  2,  2,  2,\n",
              "        2,  2, 54, 53, 42, 42, 53, 54, 25, 53, 35, 87, 42, 89, 42, 53, 54,\n",
              "        2,  2, 54, 26, 52, 54, 76, 77, 17, 54, 31, 17, 67, 15, 70])"
            ]
          },
          "metadata": {},
          "execution_count": 6
        }
      ],
      "source": [
        "encoded[:100]"
      ]
    },
    {
      "cell_type": "markdown",
      "metadata": {
        "id": "0LSce8pIonLZ"
      },
      "source": [
        "## Pre-processing the data\n",
        "\n",
        "As you can see in our char-RNN image above, our LSTM expects an input that is **one-hot encoded** meaning that each character is converted into an integer (via our created dictionary) and *then* converted into a column vector where only it's corresponding integer index will have the value of 1 and the rest of the vector will be filled with 0's. Since we're one-hot encoding the data, let's make a function to do that!\n"
      ]
    },
    {
      "cell_type": "code",
      "execution_count": 7,
      "metadata": {
        "collapsed": true,
        "id": "8BqqTfEFonLZ"
      },
      "outputs": [],
      "source": [
        "def one_hot_encode(arr, n_labels):\n",
        "\n",
        "    # Initialize the encoded array\n",
        "    one_hot = np.zeros((arr.size, n_labels), dtype=np.float32)\n",
        "\n",
        "    # Fill the appropriate elements with ones\n",
        "    one_hot[np.arange(one_hot.shape[0]), arr.flatten()] = 1.\n",
        "\n",
        "    # Finally reshape it to get back to the original array\n",
        "    one_hot = one_hot.reshape((*arr.shape, n_labels))\n",
        "\n",
        "    return one_hot"
      ]
    },
    {
      "cell_type": "code",
      "execution_count": 8,
      "metadata": {
        "collapsed": true,
        "colab": {
          "base_uri": "https://localhost:8080/"
        },
        "id": "LsN8qz-ZonLZ",
        "outputId": "5a4bd962-6823-4e1f-c04d-66eec625c064"
      },
      "outputs": [
        {
          "output_type": "stream",
          "name": "stdout",
          "text": [
            "[[[0. 0. 0. 1. 0. 0. 0. 0.]\n",
            "  [0. 0. 0. 0. 0. 1. 0. 0.]\n",
            "  [0. 1. 0. 0. 0. 0. 0. 0.]]]\n"
          ]
        }
      ],
      "source": [
        "# check that the function works as expected\n",
        "test_seq = np.array([[3, 5, 1]])\n",
        "one_hot = one_hot_encode(test_seq, 8)\n",
        "\n",
        "print(one_hot)"
      ]
    },
    {
      "cell_type": "markdown",
      "metadata": {
        "id": "fsC9syDsonLZ"
      },
      "source": [
        "## Making training mini-batches\n",
        "\n",
        "\n",
        "To train on this data, we also want to create mini-batches for training. Remember that we want our batches to be multiple sequences of some desired number of sequence steps. Considering a simple example, our batches would look like this:\n",
        "\n",
        "<img src=\"assets/sequence_batching@1x.png\" width=500px>\n",
        "\n",
        "\n",
        "<br>\n",
        "\n",
        "In this example, we'll take the encoded characters (passed in as the `arr` parameter) and split them into multiple sequences, given by `batch_size`. Each of our sequences will be `seq_length` long.\n",
        "\n",
        "### Creating Batches\n",
        "\n",
        "**1. The first thing we need to do is discard some of the text so we only have completely full mini-batches. **\n",
        "\n",
        "Each batch contains $N \\times M$ characters, where $N$ is the batch size (the number of sequences in a batch) and $M$ is the seq_length or number of time steps in a sequence. Then, to get the total number of batches, $K$, that we can make from the array `arr`, you divide the length of `arr` by the number of characters per batch. Once you know the number of batches, you can get the total number of characters to keep from `arr`, $N * M * K$.\n",
        "\n",
        "**2. After that, we need to split `arr` into $N$ batches. **\n",
        "\n",
        "You can do this using `arr.reshape(size)` where `size` is a tuple containing the dimensions sizes of the reshaped array. We know we want $N$ sequences in a batch, so let's make that the size of the first dimension. For the second dimension, you can use `-1` as a placeholder in the size, it'll fill up the array with the appropriate data for you. After this, you should have an array that is $N \\times (M * K)$.\n",
        "\n",
        "**3. Now that we have this array, we can iterate through it to get our mini-batches. **\n",
        "\n",
        "The idea is each batch is a $N \\times M$ window on the $N \\times (M * K)$ array. For each subsequent batch, the window moves over by `seq_length`. We also want to create both the input and target arrays. Remember that the targets are just the inputs shifted over by one character. The way I like to do this window is use `range` to take steps of size `n_steps` from $0$ to `arr.shape[1]`, the total number of tokens in each sequence. That way, the integers you get from `range` always point to the start of a batch, and each window is `seq_length` wide.\n",
        "\n",
        "> **TODO:** Write the code for creating batches in the function below. The exercises in this notebook _will not be easy_. I've provided a notebook with solutions alongside this notebook. If you get stuck, checkout the solutions. The most important thing is that you don't copy and paste the code into here, **type out the solution code yourself.**"
      ]
    },
    {
      "cell_type": "code",
      "execution_count": 9,
      "metadata": {
        "collapsed": true,
        "id": "IUmGn7VXonLZ"
      },
      "outputs": [],
      "source": [
        "def get_batches(arr, batch_size, seq_length):\n",
        "    '''Create a generator that returns batches of size\n",
        "       batch_size x seq_length from arr.\n",
        "\n",
        "       Arguments\n",
        "       ---------\n",
        "       arr: Array you want to make batches from\n",
        "       batch_size: Batch size, the number of sequences per batch\n",
        "       seq_length: Number of encoded chars in a sequence\n",
        "    '''\n",
        "\n",
        "    ## TODO: Get the number of batches we can make\n",
        "    total_batch_size=batch_size*seq_length\n",
        "    n_batches = len(arr)//total_batch_size\n",
        "\n",
        "    ## TODO: Keep only enough characters to make full batches\n",
        "    arr = arr[:n_batches*total_batch_size]\n",
        "\n",
        "    ## TODO: Reshape into batch_size rows\n",
        "    arr = arr.reshape((batch_size,-1))\n",
        "\n",
        "    ## TODO: Iterate over the batches using a window of size seq_length\n",
        "    for n in range(0, arr.shape[1], seq_length):\n",
        "        # The features\n",
        "        x = arr[:,n:n+seq_length]\n",
        "        # The targets, shifted by one\n",
        "        y = np.zeros_like(x)\n",
        "        try:\n",
        "          y[:,:-1],y[:,-1]=x[:,1:],arr[:,n+seq_length]\n",
        "        except IndexError:\n",
        "          y[:,:-1],y[:,-1]=x[:,1:],arr[:,0]\n",
        "        yield x, y"
      ]
    },
    {
      "cell_type": "markdown",
      "metadata": {
        "id": "E2wbgzxconLZ"
      },
      "source": [
        "### Test Your Implementation\n",
        "\n",
        "Now I'll make some data sets and we can check out what's going on as we batch data. Here, as an example, I'm going to use a batch size of 8 and 50 sequence steps."
      ]
    },
    {
      "cell_type": "code",
      "execution_count": 10,
      "metadata": {
        "collapsed": true,
        "id": "a6ZMdEzConLZ"
      },
      "outputs": [],
      "source": [
        "batches = get_batches(encoded, 8, 50)\n",
        "x, y = next(batches)"
      ]
    },
    {
      "cell_type": "code",
      "execution_count": 11,
      "metadata": {
        "collapsed": true,
        "colab": {
          "base_uri": "https://localhost:8080/"
        },
        "id": "SQ-PfGE3onLZ",
        "outputId": "cebd7f15-24d8-40ef-f05e-fd0a3691de05"
      },
      "outputs": [
        {
          "output_type": "stream",
          "name": "stdout",
          "text": [
            "x\n",
            " [[41 41 41 54 45 31 53 35 31 54]\n",
            " [54 30 15 59 54 71 73 52  2 73]\n",
            " [22 54 71 21 67 67 54 15 44 30]\n",
            " [70 17  2 70 73 77 54 63 29  4]\n",
            " [73 30 85 54 17 44 67 52 54 20]\n",
            " [21 15 54 71 21 70 73 54 70 73]\n",
            " [73 17 56 77 74 64 54 73 77 54]\n",
            " [77 63 65 54 70 73 77 54 17 70]]\n",
            "\n",
            "y\n",
            " [[41 41 54 45 31 53 35 31 54 90]\n",
            " [30 15 59 54 71 73 52  2 73 77]\n",
            " [54 71 21 67 67 54 15 44 30 63]\n",
            " [17  2 70 73 77 54 63 29  4 34]\n",
            " [30 85 54 17 44 67 52 54 20 29]\n",
            " [15 54 71 21 70 73 54 70 73 77]\n",
            " [17 56 77 74 64 54 73 77 54  4]\n",
            " [63 65 54 70 73 77 54 17 70 73]]\n"
          ]
        }
      ],
      "source": [
        "# printing out the first 10 items in a sequence\n",
        "print('x\\n', x[:10, :10])\n",
        "print('\\ny\\n', y[:10, :10])"
      ]
    },
    {
      "cell_type": "markdown",
      "metadata": {
        "id": "hsbXoYSronLZ"
      },
      "source": [
        "If you implemented `get_batches` correctly, the above output should look something like\n",
        "```\n",
        "x\n",
        " [[25  8 60 11 45 27 28 73  1  2]\n",
        " [17  7 20 73 45  8 60 45 73 60]\n",
        " [27 20 80 73  7 28 73 60 73 65]\n",
        " [17 73 45  8 27 73 66  8 46 27]\n",
        " [73 17 60 12 73  8 27 28 73 45]\n",
        " [66 64 17 17 46  7 20 73 60 20]\n",
        " [73 76 20 20 60 73  8 60 80 73]\n",
        " [47 35 43  7 20 17 24 50 37 73]]\n",
        "\n",
        "y\n",
        " [[ 8 60 11 45 27 28 73  1  2  2]\n",
        " [ 7 20 73 45  8 60 45 73 60 45]\n",
        " [20 80 73  7 28 73 60 73 65  7]\n",
        " [73 45  8 27 73 66  8 46 27 65]\n",
        " [17 60 12 73  8 27 28 73 45 27]\n",
        " [64 17 17 46  7 20 73 60 20 80]\n",
        " [76 20 20 60 73  8 60 80 73 17]\n",
        " [35 43  7 20 17 24 50 37 73 36]]\n",
        " ```\n",
        " although the exact numbers may be different. Check to make sure the data is shifted over one step for `y`."
      ]
    },
    {
      "cell_type": "markdown",
      "metadata": {
        "id": "y1CWKoh1onLa"
      },
      "source": [
        "---\n",
        "## Defining the network with PyTorch\n",
        "\n",
        "Below is where you'll define the network.\n",
        "\n",
        "<img src=\"assets/charRNN.png\" width=500px>\n",
        "\n",
        "Next, you'll use PyTorch to define the architecture of the network. We start by defining the layers and operations we want. Then, define a method for the forward pass. You've also been given a method for predicting characters."
      ]
    },
    {
      "cell_type": "markdown",
      "metadata": {
        "id": "oqXW8myNonLa"
      },
      "source": [
        "### Model Structure\n",
        "\n",
        "In `__init__` the suggested structure is as follows:\n",
        "* Create and store the necessary dictionaries (this has been done for you)\n",
        "* Define an LSTM layer that takes as params: an input size (the number of characters), a hidden layer size `n_hidden`, a number of layers `n_layers`, a dropout probability `drop_prob`, and a batch_first boolean (True, since we are batching)\n",
        "* Define a dropout layer with `drop_prob`\n",
        "* Define a fully-connected layer with params: input size `n_hidden` and output size (the number of characters)\n",
        "* Finally, initialize the weights (again, this has been given)\n",
        "\n",
        "Note that some parameters have been named and given in the `__init__` function, and we use them and store them by doing something like `self.drop_prob = drop_prob`."
      ]
    },
    {
      "cell_type": "markdown",
      "metadata": {
        "id": "fdgBq8huonLa"
      },
      "source": [
        "---\n",
        "### LSTM Inputs/Outputs\n",
        "\n",
        "You can create a basic [LSTM layer](https://pytorch.org/docs/stable/nn.html#lstm) as follows\n",
        "\n",
        "```python\n",
        "self.lstm = nn.LSTM(input_size, n_hidden, n_layers,\n",
        "                            dropout=drop_prob, batch_first=True)\n",
        "```\n",
        "\n",
        "where `input_size` is the number of characters this cell expects to see as sequential input, and `n_hidden` is the number of units in the hidden layers in the cell. And we can add dropout by adding a dropout parameter with a specified probability; this will automatically add dropout to the inputs or outputs. Finally, in the `forward` function, we can stack up the LSTM cells into layers using `.view`. With this, you pass in a list of cells and it will send the output of one cell into the next cell.\n",
        "\n",
        "We also need to create an initial hidden state of all zeros. This is done like so\n",
        "\n",
        "```python\n",
        "self.init_hidden()\n",
        "```"
      ]
    },
    {
      "cell_type": "code",
      "execution_count": 12,
      "metadata": {
        "collapsed": true,
        "colab": {
          "base_uri": "https://localhost:8080/"
        },
        "id": "aXseE5I0onLa",
        "outputId": "b616e8d6-c8de-4874-adfe-55c6ff0088b8"
      },
      "outputs": [
        {
          "output_type": "stream",
          "name": "stdout",
          "text": [
            "Training on GPU!\n"
          ]
        }
      ],
      "source": [
        "# check if GPU is available\n",
        "train_on_gpu = torch.cuda.is_available()\n",
        "if(train_on_gpu):\n",
        "    print('Training on GPU!')\n",
        "else:\n",
        "    print('No GPU available, training on CPU; consider making n_epochs very small.')"
      ]
    },
    {
      "cell_type": "code",
      "execution_count": 13,
      "metadata": {
        "collapsed": true,
        "id": "kNFtaJ1jonLa"
      },
      "outputs": [],
      "source": [
        "class CharRNN(nn.Module):\n",
        "\n",
        "    def __init__(self, tokens, n_hidden=256, n_layers=2,\n",
        "                               drop_prob=0.5, lr=0.001):\n",
        "        super().__init__()\n",
        "        self.drop_prob = drop_prob\n",
        "        self.n_layers = n_layers\n",
        "        self.n_hidden = n_hidden\n",
        "        self.lr = lr\n",
        "\n",
        "        # creating character dictionaries\n",
        "        self.chars = tokens\n",
        "        self.int2char = dict(enumerate(self.chars))\n",
        "        self.char2int = {ch: ii for ii, ch in self.int2char.items()}\n",
        "\n",
        "        ## TODO: define the layers of the model\n",
        "        self.lstm=nn.LSTM(len(self.chars),n_hidden, n_layers, dropout=drop_prob,batch_first=True)\n",
        "        self.droput=nn.Dropout(drop_prob)\n",
        "        self.fc = nn.Linear(n_hidden, len(self.chars))\n",
        "\n",
        "\n",
        "    def forward(self, x, hidden):\n",
        "        ''' Forward pass through the network.\n",
        "            These inputs are x, and the hidden/cell state `hidden`. '''\n",
        "\n",
        "        ## TODO: Get the outputs and the new hidden state from the lstm\n",
        "        r_output,hidden=self.lstm(x,hidden)\n",
        "        out=self.droput(r_output)\n",
        "        out = out.reshape(-1, self.n_hidden)\n",
        "        out=self.fc(out)\n",
        "        #out = out.contiguous().view(-1, self.n_hidden)\n",
        "\n",
        "        # return the final output and the hidden state\n",
        "        return out, hidden\n",
        "\n",
        "\n",
        "    def init_hidden(self, batch_size):\n",
        "        ''' Initializes hidden state '''\n",
        "        # Create two new tensors with sizes n_layers x batch_size x n_hidden,\n",
        "        # initialized to zero, for hidden state and cell state of LSTM\n",
        "        weight = next(self.parameters()).data\n",
        "\n",
        "        if (train_on_gpu):\n",
        "            hidden = (weight.new(self.n_layers, batch_size, self.n_hidden).zero_().cuda(),\n",
        "                  weight.new(self.n_layers, batch_size, self.n_hidden).zero_().cuda())\n",
        "        else:\n",
        "            hidden = (weight.new(self.n_layers, batch_size, self.n_hidden).zero_(),\n",
        "                      weight.new(self.n_layers, batch_size, self.n_hidden).zero_())\n",
        "\n",
        "        return hidden\n",
        ""
      ]
    },
    {
      "cell_type": "markdown",
      "metadata": {
        "id": "_2qyMvXkonLa"
      },
      "source": [
        "## Time to train\n",
        "\n",
        "The train function gives us the ability to set the number of epochs, the learning rate, and other parameters.\n",
        "\n",
        "Below we're using an Adam optimizer and cross entropy loss since we are looking at character class scores as output. We calculate the loss and perform backpropagation, as usual!\n",
        "\n",
        "A couple of details about training:\n",
        ">* Within the batch loop, we detach the hidden state from its history; this time setting it equal to a new *tuple* variable because an LSTM has a hidden state that is a tuple of the hidden and cell states.\n",
        "* We use [`clip_grad_norm_`](https://pytorch.org/docs/stable/_modules/torch/nn/utils/clip_grad.html) to help prevent exploding gradients."
      ]
    },
    {
      "cell_type": "code",
      "execution_count": 14,
      "metadata": {
        "collapsed": true,
        "id": "MeY0yLs5onLa"
      },
      "outputs": [],
      "source": [
        "def train(net, data, epochs=10, batch_size=10, seq_length=50, lr=0.001, clip=5, val_frac=0.1, print_every=10):\n",
        "    ''' Training a network\n",
        "\n",
        "        Arguments\n",
        "        ---------\n",
        "\n",
        "        net: CharRNN network\n",
        "        data: text data to train the network\n",
        "        epochs: Number of epochs to train\n",
        "        batch_size: Number of mini-sequences per mini-batch, aka batch size\n",
        "        seq_length: Number of character steps per mini-batch\n",
        "        lr: learning rate\n",
        "        clip: gradient clipping\n",
        "        val_frac: Fraction of data to hold out for validation\n",
        "        print_every: Number of steps for printing training and validation loss\n",
        "\n",
        "    '''\n",
        "    net.train()\n",
        "\n",
        "    opt = torch.optim.Adam(net.parameters(), lr=lr)\n",
        "    criterion = nn.CrossEntropyLoss()\n",
        "\n",
        "    # create training and validation data\n",
        "    val_idx = int(len(data)*(1-val_frac))\n",
        "    data, val_data = data[:val_idx], data[val_idx:]\n",
        "\n",
        "    if(train_on_gpu):\n",
        "        net.cuda()\n",
        "\n",
        "    counter = 0\n",
        "    n_chars = len(net.chars)\n",
        "    for e in range(epochs):\n",
        "        # initialize hidden state\n",
        "        h = net.init_hidden(batch_size)\n",
        "\n",
        "        for x, y in get_batches(data, batch_size, seq_length):\n",
        "            counter += 1\n",
        "\n",
        "            # One-hot encode our data and make them Torch tensors\n",
        "            x = one_hot_encode(x, n_chars)\n",
        "            inputs, targets = torch.from_numpy(x), torch.from_numpy(y)\n",
        "\n",
        "            if(train_on_gpu):\n",
        "                inputs, targets = inputs.cuda(), targets.cuda()\n",
        "\n",
        "            # Creating new variables for the hidden state, otherwise\n",
        "            # we'd backprop through the entire training history\n",
        "            h = tuple([each.data for each in h])\n",
        "\n",
        "            # zero accumulated gradients\n",
        "            net.zero_grad()\n",
        "\n",
        "            # get the output from the model\n",
        "            output, h = net(inputs, h)\n",
        "\n",
        "            # calculate the loss and perform backprop\n",
        "            loss = criterion(output, targets.view(batch_size*seq_length).long())\n",
        "            loss.backward()\n",
        "            # `clip_grad_norm` helps prevent the exploding gradient problem in RNNs / LSTMs.\n",
        "            nn.utils.clip_grad_norm_(net.parameters(), clip)\n",
        "            opt.step()\n",
        "\n",
        "            # loss stats\n",
        "            if counter % print_every == 0:\n",
        "                # Get validation loss\n",
        "                val_h = net.init_hidden(batch_size)\n",
        "                val_losses = []\n",
        "                net.eval()\n",
        "                for x, y in get_batches(val_data, batch_size, seq_length):\n",
        "                    # One-hot encode our data and make them Torch tensors\n",
        "                    x = one_hot_encode(x, n_chars)\n",
        "                    x, y = torch.from_numpy(x), torch.from_numpy(y)\n",
        "\n",
        "                    # Creating new variables for the hidden state, otherwise\n",
        "                    # we'd backprop through the entire training history\n",
        "                    val_h = tuple([each.data for each in val_h])\n",
        "\n",
        "                    inputs, targets = x, y\n",
        "                    if(train_on_gpu):\n",
        "                        inputs, targets = inputs.cuda(), targets.cuda()\n",
        "\n",
        "                    output, val_h = net(inputs, val_h)\n",
        "                    val_loss = criterion(output, targets.view(batch_size*seq_length).long())\n",
        "\n",
        "                    val_losses.append(val_loss.item())\n",
        "\n",
        "                net.train() # reset to train mode after iterationg through validation data\n",
        "\n",
        "                print(\"Epoch: {}/{}...\".format(e+1, epochs),\n",
        "                      \"Step: {}...\".format(counter),\n",
        "                      \"Loss: {:.4f}...\".format(loss.item()),\n",
        "                      \"Val Loss: {:.4f}\".format(np.mean(val_losses)))"
      ]
    },
    {
      "cell_type": "markdown",
      "metadata": {
        "id": "QEAs3BWoonLa"
      },
      "source": [
        "## Instantiating the model\n",
        "\n",
        "Now we can actually train the network. First we'll create the network itself, with some given hyperparameters. Then, define the mini-batches sizes, and start training!"
      ]
    },
    {
      "cell_type": "code",
      "execution_count": 15,
      "metadata": {
        "collapsed": true,
        "colab": {
          "base_uri": "https://localhost:8080/"
        },
        "id": "jONO2NLionLa",
        "outputId": "e9e57abb-8307-439a-a81d-92746a487a23"
      },
      "outputs": [
        {
          "output_type": "stream",
          "name": "stdout",
          "text": [
            "CharRNN(\n",
            "  (lstm): LSTM(97, 512, num_layers=3, batch_first=True, dropout=0.5)\n",
            "  (droput): Dropout(p=0.5, inplace=False)\n",
            "  (fc): Linear(in_features=512, out_features=97, bias=True)\n",
            ")\n"
          ]
        }
      ],
      "source": [
        "## TODO: set your model hyperparameters\n",
        "# define and print the net\n",
        "n_hidden=512\n",
        "n_layers=3\n",
        "\n",
        "net = CharRNN(chars, n_hidden, n_layers)\n",
        "print(net)"
      ]
    },
    {
      "cell_type": "markdown",
      "metadata": {
        "id": "PFJa6nKwonLa"
      },
      "source": [
        "### Set your training hyperparameters!"
      ]
    },
    {
      "cell_type": "code",
      "execution_count": 16,
      "metadata": {
        "collapsed": true,
        "scrolled": true,
        "colab": {
          "base_uri": "https://localhost:8080/"
        },
        "id": "vZ-vlyc-onLa",
        "outputId": "9db9e3b0-2a60-4047-9948-455b802928bd"
      },
      "outputs": [
        {
          "output_type": "stream",
          "name": "stdout",
          "text": [
            "Epoch: 1/20... Step: 10... Loss: 3.2347... Val Loss: 3.1318\n",
            "Epoch: 1/20... Step: 20... Loss: 3.1718... Val Loss: 3.1096\n",
            "Epoch: 1/20... Step: 30... Loss: 3.1576... Val Loss: 3.1088\n",
            "Epoch: 1/20... Step: 40... Loss: 3.1463... Val Loss: 3.1053\n",
            "Epoch: 1/20... Step: 50... Loss: 3.1652... Val Loss: 3.1030\n",
            "Epoch: 1/20... Step: 60... Loss: 3.1417... Val Loss: 3.1030\n",
            "Epoch: 1/20... Step: 70... Loss: 3.1022... Val Loss: 3.1022\n",
            "Epoch: 1/20... Step: 80... Loss: 3.1122... Val Loss: 3.1020\n",
            "Epoch: 1/20... Step: 90... Loss: 3.1236... Val Loss: 3.1018\n",
            "Epoch: 1/20... Step: 100... Loss: 3.1369... Val Loss: 3.1021\n",
            "Epoch: 1/20... Step: 110... Loss: 3.1456... Val Loss: 3.1025\n",
            "Epoch: 1/20... Step: 120... Loss: 3.1272... Val Loss: 3.1011\n",
            "Epoch: 1/20... Step: 130... Loss: 3.1122... Val Loss: 3.1002\n",
            "Epoch: 2/20... Step: 140... Loss: 3.1324... Val Loss: 3.1003\n",
            "Epoch: 2/20... Step: 150... Loss: 3.1213... Val Loss: 3.0980\n",
            "Epoch: 2/20... Step: 160... Loss: 3.1053... Val Loss: 3.0903\n",
            "Epoch: 2/20... Step: 170... Loss: 3.0639... Val Loss: 3.0594\n",
            "Epoch: 2/20... Step: 180... Loss: 3.0136... Val Loss: 3.0110\n",
            "Epoch: 2/20... Step: 190... Loss: 2.9536... Val Loss: 2.8909\n",
            "Epoch: 2/20... Step: 200... Loss: 2.8843... Val Loss: 2.8084\n",
            "Epoch: 2/20... Step: 210... Loss: 2.7903... Val Loss: 2.7298\n",
            "Epoch: 2/20... Step: 220... Loss: 2.7308... Val Loss: 2.6614\n",
            "Epoch: 2/20... Step: 230... Loss: 2.6557... Val Loss: 2.5694\n",
            "Epoch: 2/20... Step: 240... Loss: 2.5648... Val Loss: 2.4831\n",
            "Epoch: 2/20... Step: 250... Loss: 2.5121... Val Loss: 2.4410\n",
            "Epoch: 2/20... Step: 260... Loss: 2.4487... Val Loss: 2.3887\n",
            "Epoch: 2/20... Step: 270... Loss: 2.4252... Val Loss: 2.3548\n",
            "Epoch: 3/20... Step: 280... Loss: 2.4214... Val Loss: 2.3239\n",
            "Epoch: 3/20... Step: 290... Loss: 2.3618... Val Loss: 2.2912\n",
            "Epoch: 3/20... Step: 300... Loss: 2.3388... Val Loss: 2.2612\n",
            "Epoch: 3/20... Step: 310... Loss: 2.2957... Val Loss: 2.2343\n",
            "Epoch: 3/20... Step: 320... Loss: 2.2813... Val Loss: 2.2031\n",
            "Epoch: 3/20... Step: 330... Loss: 2.2497... Val Loss: 2.1823\n",
            "Epoch: 3/20... Step: 340... Loss: 2.2156... Val Loss: 2.1541\n",
            "Epoch: 3/20... Step: 350... Loss: 2.2115... Val Loss: 2.1326\n",
            "Epoch: 3/20... Step: 360... Loss: 2.1785... Val Loss: 2.1078\n",
            "Epoch: 3/20... Step: 370... Loss: 2.1698... Val Loss: 2.0860\n",
            "Epoch: 3/20... Step: 380... Loss: 2.1625... Val Loss: 2.0678\n",
            "Epoch: 3/20... Step: 390... Loss: 2.1265... Val Loss: 2.0457\n",
            "Epoch: 3/20... Step: 400... Loss: 2.1190... Val Loss: 2.0271\n",
            "Epoch: 3/20... Step: 410... Loss: 2.1079... Val Loss: 2.0069\n",
            "Epoch: 4/20... Step: 420... Loss: 2.1075... Val Loss: 1.9884\n",
            "Epoch: 4/20... Step: 430... Loss: 2.0785... Val Loss: 1.9705\n",
            "Epoch: 4/20... Step: 440... Loss: 2.0292... Val Loss: 1.9542\n",
            "Epoch: 4/20... Step: 450... Loss: 2.0394... Val Loss: 1.9359\n",
            "Epoch: 4/20... Step: 460... Loss: 2.0164... Val Loss: 1.9176\n",
            "Epoch: 4/20... Step: 470... Loss: 2.0010... Val Loss: 1.9063\n",
            "Epoch: 4/20... Step: 480... Loss: 1.9655... Val Loss: 1.8837\n",
            "Epoch: 4/20... Step: 490... Loss: 1.9787... Val Loss: 1.8692\n",
            "Epoch: 4/20... Step: 500... Loss: 1.9412... Val Loss: 1.8539\n",
            "Epoch: 4/20... Step: 510... Loss: 1.9442... Val Loss: 1.8392\n",
            "Epoch: 4/20... Step: 520... Loss: 1.9091... Val Loss: 1.8237\n",
            "Epoch: 4/20... Step: 530... Loss: 1.9430... Val Loss: 1.8115\n",
            "Epoch: 4/20... Step: 540... Loss: 1.9190... Val Loss: 1.7999\n",
            "Epoch: 4/20... Step: 550... Loss: 1.8715... Val Loss: 1.7856\n",
            "Epoch: 5/20... Step: 560... Loss: 1.8751... Val Loss: 1.7761\n",
            "Epoch: 5/20... Step: 570... Loss: 1.8492... Val Loss: 1.7643\n",
            "Epoch: 5/20... Step: 580... Loss: 1.8597... Val Loss: 1.7510\n",
            "Epoch: 5/20... Step: 590... Loss: 1.8409... Val Loss: 1.7414\n",
            "Epoch: 5/20... Step: 600... Loss: 1.8293... Val Loss: 1.7273\n",
            "Epoch: 5/20... Step: 610... Loss: 1.8208... Val Loss: 1.7168\n",
            "Epoch: 5/20... Step: 620... Loss: 1.7848... Val Loss: 1.7090\n",
            "Epoch: 5/20... Step: 630... Loss: 1.7917... Val Loss: 1.6989\n",
            "Epoch: 5/20... Step: 640... Loss: 1.8019... Val Loss: 1.6856\n",
            "Epoch: 5/20... Step: 650... Loss: 1.7892... Val Loss: 1.6778\n",
            "Epoch: 5/20... Step: 660... Loss: 1.7837... Val Loss: 1.6656\n",
            "Epoch: 5/20... Step: 670... Loss: 1.7918... Val Loss: 1.6575\n",
            "Epoch: 5/20... Step: 680... Loss: 1.7717... Val Loss: 1.6471\n",
            "Epoch: 5/20... Step: 690... Loss: 1.8149... Val Loss: 1.6452\n",
            "Epoch: 6/20... Step: 700... Loss: 1.7212... Val Loss: 1.6318\n",
            "Epoch: 6/20... Step: 710... Loss: 1.6990... Val Loss: 1.6203\n",
            "Epoch: 6/20... Step: 720... Loss: 1.7237... Val Loss: 1.6131\n",
            "Epoch: 6/20... Step: 730... Loss: 1.7211... Val Loss: 1.6055\n",
            "Epoch: 6/20... Step: 740... Loss: 1.7525... Val Loss: 1.5955\n",
            "Epoch: 6/20... Step: 750... Loss: 1.7155... Val Loss: 1.5871\n",
            "Epoch: 6/20... Step: 760... Loss: 1.6915... Val Loss: 1.5832\n",
            "Epoch: 6/20... Step: 770... Loss: 1.6655... Val Loss: 1.5755\n",
            "Epoch: 6/20... Step: 780... Loss: 1.6475... Val Loss: 1.5661\n",
            "Epoch: 6/20... Step: 790... Loss: 1.6729... Val Loss: 1.5591\n",
            "Epoch: 6/20... Step: 800... Loss: 1.6571... Val Loss: 1.5519\n",
            "Epoch: 6/20... Step: 810... Loss: 1.6691... Val Loss: 1.5440\n",
            "Epoch: 6/20... Step: 820... Loss: 1.6321... Val Loss: 1.5398\n",
            "Epoch: 7/20... Step: 830... Loss: 1.6607... Val Loss: 1.5366\n",
            "Epoch: 7/20... Step: 840... Loss: 1.5970... Val Loss: 1.5304\n",
            "Epoch: 7/20... Step: 850... Loss: 1.6356... Val Loss: 1.5192\n",
            "Epoch: 7/20... Step: 860... Loss: 1.6299... Val Loss: 1.5129\n",
            "Epoch: 7/20... Step: 870... Loss: 1.6215... Val Loss: 1.5079\n",
            "Epoch: 7/20... Step: 880... Loss: 1.6363... Val Loss: 1.5009\n",
            "Epoch: 7/20... Step: 890... Loss: 1.5629... Val Loss: 1.4971\n",
            "Epoch: 7/20... Step: 900... Loss: 1.6121... Val Loss: 1.4891\n",
            "Epoch: 7/20... Step: 910... Loss: 1.6008... Val Loss: 1.4865\n",
            "Epoch: 7/20... Step: 920... Loss: 1.5997... Val Loss: 1.4828\n",
            "Epoch: 7/20... Step: 930... Loss: 1.5639... Val Loss: 1.4758\n",
            "Epoch: 7/20... Step: 940... Loss: 1.5777... Val Loss: 1.4673\n",
            "Epoch: 7/20... Step: 950... Loss: 1.5525... Val Loss: 1.4630\n",
            "Epoch: 7/20... Step: 960... Loss: 1.5660... Val Loss: 1.4592\n",
            "Epoch: 8/20... Step: 970... Loss: 1.5748... Val Loss: 1.4562\n",
            "Epoch: 8/20... Step: 980... Loss: 1.5569... Val Loss: 1.4481\n",
            "Epoch: 8/20... Step: 990... Loss: 1.5670... Val Loss: 1.4453\n",
            "Epoch: 8/20... Step: 1000... Loss: 1.5455... Val Loss: 1.4412\n",
            "Epoch: 8/20... Step: 1010... Loss: 1.5763... Val Loss: 1.4387\n",
            "Epoch: 8/20... Step: 1020... Loss: 1.5127... Val Loss: 1.4323\n",
            "Epoch: 8/20... Step: 1030... Loss: 1.5068... Val Loss: 1.4276\n",
            "Epoch: 8/20... Step: 1040... Loss: 1.5320... Val Loss: 1.4245\n",
            "Epoch: 8/20... Step: 1050... Loss: 1.4997... Val Loss: 1.4192\n",
            "Epoch: 8/20... Step: 1060... Loss: 1.5391... Val Loss: 1.4180\n",
            "Epoch: 8/20... Step: 1070... Loss: 1.5247... Val Loss: 1.4118\n",
            "Epoch: 8/20... Step: 1080... Loss: 1.4768... Val Loss: 1.4074\n",
            "Epoch: 8/20... Step: 1090... Loss: 1.4962... Val Loss: 1.4028\n",
            "Epoch: 8/20... Step: 1100... Loss: 1.5112... Val Loss: 1.4011\n",
            "Epoch: 9/20... Step: 1110... Loss: 1.5326... Val Loss: 1.3999\n",
            "Epoch: 9/20... Step: 1120... Loss: 1.5172... Val Loss: 1.3972\n",
            "Epoch: 9/20... Step: 1130... Loss: 1.4777... Val Loss: 1.3920\n",
            "Epoch: 9/20... Step: 1140... Loss: 1.5029... Val Loss: 1.3883\n",
            "Epoch: 9/20... Step: 1150... Loss: 1.4684... Val Loss: 1.3842\n",
            "Epoch: 9/20... Step: 1160... Loss: 1.4650... Val Loss: 1.3803\n",
            "Epoch: 9/20... Step: 1170... Loss: 1.4461... Val Loss: 1.3767\n",
            "Epoch: 9/20... Step: 1180... Loss: 1.4758... Val Loss: 1.3761\n",
            "Epoch: 9/20... Step: 1190... Loss: 1.4415... Val Loss: 1.3712\n",
            "Epoch: 9/20... Step: 1200... Loss: 1.4795... Val Loss: 1.3681\n",
            "Epoch: 9/20... Step: 1210... Loss: 1.4427... Val Loss: 1.3657\n",
            "Epoch: 9/20... Step: 1220... Loss: 1.4803... Val Loss: 1.3614\n",
            "Epoch: 9/20... Step: 1230... Loss: 1.4663... Val Loss: 1.3574\n",
            "Epoch: 9/20... Step: 1240... Loss: 1.4422... Val Loss: 1.3555\n",
            "Epoch: 10/20... Step: 1250... Loss: 1.4191... Val Loss: 1.3547\n",
            "Epoch: 10/20... Step: 1260... Loss: 1.4458... Val Loss: 1.3515\n",
            "Epoch: 10/20... Step: 1270... Loss: 1.4308... Val Loss: 1.3501\n",
            "Epoch: 10/20... Step: 1280... Loss: 1.4310... Val Loss: 1.3450\n",
            "Epoch: 10/20... Step: 1290... Loss: 1.4272... Val Loss: 1.3432\n",
            "Epoch: 10/20... Step: 1300... Loss: 1.4006... Val Loss: 1.3446\n",
            "Epoch: 10/20... Step: 1310... Loss: 1.4105... Val Loss: 1.3377\n",
            "Epoch: 10/20... Step: 1320... Loss: 1.4159... Val Loss: 1.3363\n",
            "Epoch: 10/20... Step: 1330... Loss: 1.4425... Val Loss: 1.3363\n",
            "Epoch: 10/20... Step: 1340... Loss: 1.4067... Val Loss: 1.3315\n",
            "Epoch: 10/20... Step: 1350... Loss: 1.4285... Val Loss: 1.3298\n",
            "Epoch: 10/20... Step: 1360... Loss: 1.4543... Val Loss: 1.3305\n",
            "Epoch: 10/20... Step: 1370... Loss: 1.4192... Val Loss: 1.3240\n",
            "Epoch: 10/20... Step: 1380... Loss: 1.4842... Val Loss: 1.3225\n",
            "Epoch: 11/20... Step: 1390... Loss: 1.3891... Val Loss: 1.3217\n",
            "Epoch: 11/20... Step: 1400... Loss: 1.3758... Val Loss: 1.3207\n",
            "Epoch: 11/20... Step: 1410... Loss: 1.3883... Val Loss: 1.3157\n",
            "Epoch: 11/20... Step: 1420... Loss: 1.4089... Val Loss: 1.3171\n",
            "Epoch: 11/20... Step: 1430... Loss: 1.4319... Val Loss: 1.3141\n",
            "Epoch: 11/20... Step: 1440... Loss: 1.4014... Val Loss: 1.3132\n",
            "Epoch: 11/20... Step: 1450... Loss: 1.4030... Val Loss: 1.3092\n",
            "Epoch: 11/20... Step: 1460... Loss: 1.3867... Val Loss: 1.3073\n",
            "Epoch: 11/20... Step: 1470... Loss: 1.3719... Val Loss: 1.3075\n",
            "Epoch: 11/20... Step: 1480... Loss: 1.3891... Val Loss: 1.3055\n",
            "Epoch: 11/20... Step: 1490... Loss: 1.3762... Val Loss: 1.3015\n",
            "Epoch: 11/20... Step: 1500... Loss: 1.4008... Val Loss: 1.3039\n",
            "Epoch: 11/20... Step: 1510... Loss: 1.3743... Val Loss: 1.2983\n",
            "Epoch: 12/20... Step: 1520... Loss: 1.3944... Val Loss: 1.2973\n",
            "Epoch: 12/20... Step: 1530... Loss: 1.3401... Val Loss: 1.2960\n",
            "Epoch: 12/20... Step: 1540... Loss: 1.3734... Val Loss: 1.2923\n",
            "Epoch: 12/20... Step: 1550... Loss: 1.3885... Val Loss: 1.2911\n",
            "Epoch: 12/20... Step: 1560... Loss: 1.3748... Val Loss: 1.2918\n",
            "Epoch: 12/20... Step: 1570... Loss: 1.3834... Val Loss: 1.2866\n",
            "Epoch: 12/20... Step: 1580... Loss: 1.3233... Val Loss: 1.2893\n",
            "Epoch: 12/20... Step: 1590... Loss: 1.3820... Val Loss: 1.2837\n",
            "Epoch: 12/20... Step: 1600... Loss: 1.3553... Val Loss: 1.2837\n",
            "Epoch: 12/20... Step: 1610... Loss: 1.3688... Val Loss: 1.2805\n",
            "Epoch: 12/20... Step: 1620... Loss: 1.3448... Val Loss: 1.2826\n",
            "Epoch: 12/20... Step: 1630... Loss: 1.3600... Val Loss: 1.2793\n",
            "Epoch: 12/20... Step: 1640... Loss: 1.3358... Val Loss: 1.2798\n",
            "Epoch: 12/20... Step: 1650... Loss: 1.3496... Val Loss: 1.2771\n",
            "Epoch: 13/20... Step: 1660... Loss: 1.3612... Val Loss: 1.2763\n",
            "Epoch: 13/20... Step: 1670... Loss: 1.3532... Val Loss: 1.2731\n",
            "Epoch: 13/20... Step: 1680... Loss: 1.3610... Val Loss: 1.2724\n",
            "Epoch: 13/20... Step: 1690... Loss: 1.3433... Val Loss: 1.2703\n",
            "Epoch: 13/20... Step: 1700... Loss: 1.3533... Val Loss: 1.2704\n",
            "Epoch: 13/20... Step: 1710... Loss: 1.3241... Val Loss: 1.2672\n",
            "Epoch: 13/20... Step: 1720... Loss: 1.3174... Val Loss: 1.2691\n",
            "Epoch: 13/20... Step: 1730... Loss: 1.3428... Val Loss: 1.2649\n",
            "Epoch: 13/20... Step: 1740... Loss: 1.2962... Val Loss: 1.2650\n",
            "Epoch: 13/20... Step: 1750... Loss: 1.3448... Val Loss: 1.2626\n",
            "Epoch: 13/20... Step: 1760... Loss: 1.3411... Val Loss: 1.2611\n",
            "Epoch: 13/20... Step: 1770... Loss: 1.2919... Val Loss: 1.2604\n",
            "Epoch: 13/20... Step: 1780... Loss: 1.3175... Val Loss: 1.2577\n",
            "Epoch: 13/20... Step: 1790... Loss: 1.3195... Val Loss: 1.2579\n",
            "Epoch: 14/20... Step: 1800... Loss: 1.3565... Val Loss: 1.2577\n",
            "Epoch: 14/20... Step: 1810... Loss: 1.3487... Val Loss: 1.2564\n",
            "Epoch: 14/20... Step: 1820... Loss: 1.3194... Val Loss: 1.2564\n",
            "Epoch: 14/20... Step: 1830... Loss: 1.3331... Val Loss: 1.2540\n",
            "Epoch: 14/20... Step: 1840... Loss: 1.3012... Val Loss: 1.2529\n",
            "Epoch: 14/20... Step: 1850... Loss: 1.3072... Val Loss: 1.2516\n",
            "Epoch: 14/20... Step: 1860... Loss: 1.2798... Val Loss: 1.2525\n",
            "Epoch: 14/20... Step: 1870... Loss: 1.3205... Val Loss: 1.2480\n",
            "Epoch: 14/20... Step: 1880... Loss: 1.2925... Val Loss: 1.2511\n",
            "Epoch: 14/20... Step: 1890... Loss: 1.3255... Val Loss: 1.2478\n",
            "Epoch: 14/20... Step: 1900... Loss: 1.2958... Val Loss: 1.2464\n",
            "Epoch: 14/20... Step: 1910... Loss: 1.3268... Val Loss: 1.2433\n",
            "Epoch: 14/20... Step: 1920... Loss: 1.3173... Val Loss: 1.2423\n",
            "Epoch: 14/20... Step: 1930... Loss: 1.3006... Val Loss: 1.2439\n",
            "Epoch: 15/20... Step: 1940... Loss: 1.2901... Val Loss: 1.2429\n",
            "Epoch: 15/20... Step: 1950... Loss: 1.3116... Val Loss: 1.2425\n",
            "Epoch: 15/20... Step: 1960... Loss: 1.3002... Val Loss: 1.2419\n",
            "Epoch: 15/20... Step: 1970... Loss: 1.3105... Val Loss: 1.2396\n",
            "Epoch: 15/20... Step: 1980... Loss: 1.3010... Val Loss: 1.2399\n",
            "Epoch: 15/20... Step: 1990... Loss: 1.2737... Val Loss: 1.2412\n",
            "Epoch: 15/20... Step: 2000... Loss: 1.2855... Val Loss: 1.2353\n",
            "Epoch: 15/20... Step: 2010... Loss: 1.2838... Val Loss: 1.2378\n",
            "Epoch: 15/20... Step: 2020... Loss: 1.3145... Val Loss: 1.2358\n",
            "Epoch: 15/20... Step: 2030... Loss: 1.2713... Val Loss: 1.2338\n",
            "Epoch: 15/20... Step: 2040... Loss: 1.2972... Val Loss: 1.2335\n",
            "Epoch: 15/20... Step: 2050... Loss: 1.3243... Val Loss: 1.2323\n",
            "Epoch: 15/20... Step: 2060... Loss: 1.3034... Val Loss: 1.2316\n",
            "Epoch: 15/20... Step: 2070... Loss: 1.3525... Val Loss: 1.2313\n",
            "Epoch: 16/20... Step: 2080... Loss: 1.2720... Val Loss: 1.2338\n",
            "Epoch: 16/20... Step: 2090... Loss: 1.2491... Val Loss: 1.2301\n",
            "Epoch: 16/20... Step: 2100... Loss: 1.2729... Val Loss: 1.2284\n",
            "Epoch: 16/20... Step: 2110... Loss: 1.2857... Val Loss: 1.2284\n",
            "Epoch: 16/20... Step: 2120... Loss: 1.3022... Val Loss: 1.2281\n",
            "Epoch: 16/20... Step: 2130... Loss: 1.2829... Val Loss: 1.2255\n",
            "Epoch: 16/20... Step: 2140... Loss: 1.2892... Val Loss: 1.2246\n",
            "Epoch: 16/20... Step: 2150... Loss: 1.2721... Val Loss: 1.2268\n",
            "Epoch: 16/20... Step: 2160... Loss: 1.2596... Val Loss: 1.2240\n",
            "Epoch: 16/20... Step: 2170... Loss: 1.2722... Val Loss: 1.2215\n",
            "Epoch: 16/20... Step: 2180... Loss: 1.2700... Val Loss: 1.2212\n",
            "Epoch: 16/20... Step: 2190... Loss: 1.2941... Val Loss: 1.2234\n",
            "Epoch: 16/20... Step: 2200... Loss: 1.2769... Val Loss: 1.2224\n",
            "Epoch: 17/20... Step: 2210... Loss: 1.2864... Val Loss: 1.2193\n",
            "Epoch: 17/20... Step: 2220... Loss: 1.2430... Val Loss: 1.2218\n",
            "Epoch: 17/20... Step: 2230... Loss: 1.2768... Val Loss: 1.2200\n",
            "Epoch: 17/20... Step: 2240... Loss: 1.2833... Val Loss: 1.2176\n",
            "Epoch: 17/20... Step: 2250... Loss: 1.2779... Val Loss: 1.2179\n",
            "Epoch: 17/20... Step: 2260... Loss: 1.2845... Val Loss: 1.2169\n",
            "Epoch: 17/20... Step: 2270... Loss: 1.2241... Val Loss: 1.2149\n",
            "Epoch: 17/20... Step: 2280... Loss: 1.2818... Val Loss: 1.2153\n",
            "Epoch: 17/20... Step: 2290... Loss: 1.2661... Val Loss: 1.2161\n",
            "Epoch: 17/20... Step: 2300... Loss: 1.2755... Val Loss: 1.2139\n",
            "Epoch: 17/20... Step: 2310... Loss: 1.2616... Val Loss: 1.2149\n",
            "Epoch: 17/20... Step: 2320... Loss: 1.2727... Val Loss: 1.2119\n",
            "Epoch: 17/20... Step: 2330... Loss: 1.2446... Val Loss: 1.2139\n",
            "Epoch: 17/20... Step: 2340... Loss: 1.2663... Val Loss: 1.2128\n",
            "Epoch: 18/20... Step: 2350... Loss: 1.2693... Val Loss: 1.2133\n",
            "Epoch: 18/20... Step: 2360... Loss: 1.2642... Val Loss: 1.2103\n",
            "Epoch: 18/20... Step: 2370... Loss: 1.2633... Val Loss: 1.2095\n",
            "Epoch: 18/20... Step: 2380... Loss: 1.2501... Val Loss: 1.2079\n",
            "Epoch: 18/20... Step: 2390... Loss: 1.2690... Val Loss: 1.2102\n",
            "Epoch: 18/20... Step: 2400... Loss: 1.2309... Val Loss: 1.2070\n",
            "Epoch: 18/20... Step: 2410... Loss: 1.2253... Val Loss: 1.2070\n",
            "Epoch: 18/20... Step: 2420... Loss: 1.2564... Val Loss: 1.2079\n",
            "Epoch: 18/20... Step: 2430... Loss: 1.2193... Val Loss: 1.2059\n",
            "Epoch: 18/20... Step: 2440... Loss: 1.2680... Val Loss: 1.2052\n",
            "Epoch: 18/20... Step: 2450... Loss: 1.2549... Val Loss: 1.2057\n",
            "Epoch: 18/20... Step: 2460... Loss: 1.2141... Val Loss: 1.2051\n",
            "Epoch: 18/20... Step: 2470... Loss: 1.2270... Val Loss: 1.2040\n",
            "Epoch: 18/20... Step: 2480... Loss: 1.2532... Val Loss: 1.2036\n",
            "Epoch: 19/20... Step: 2490... Loss: 1.2706... Val Loss: 1.2017\n",
            "Epoch: 19/20... Step: 2500... Loss: 1.2686... Val Loss: 1.2016\n",
            "Epoch: 19/20... Step: 2510... Loss: 1.2381... Val Loss: 1.2007\n",
            "Epoch: 19/20... Step: 2520... Loss: 1.2560... Val Loss: 1.2002\n",
            "Epoch: 19/20... Step: 2530... Loss: 1.2231... Val Loss: 1.2011\n",
            "Epoch: 19/20... Step: 2540... Loss: 1.2324... Val Loss: 1.2000\n",
            "Epoch: 19/20... Step: 2550... Loss: 1.2042... Val Loss: 1.2015\n",
            "Epoch: 19/20... Step: 2560... Loss: 1.2412... Val Loss: 1.2001\n",
            "Epoch: 19/20... Step: 2570... Loss: 1.2196... Val Loss: 1.1989\n",
            "Epoch: 19/20... Step: 2580... Loss: 1.2463... Val Loss: 1.1995\n",
            "Epoch: 19/20... Step: 2590... Loss: 1.2236... Val Loss: 1.1979\n",
            "Epoch: 19/20... Step: 2600... Loss: 1.2586... Val Loss: 1.1972\n",
            "Epoch: 19/20... Step: 2610... Loss: 1.2357... Val Loss: 1.1963\n",
            "Epoch: 19/20... Step: 2620... Loss: 1.2297... Val Loss: 1.1956\n",
            "Epoch: 20/20... Step: 2630... Loss: 1.2081... Val Loss: 1.1952\n",
            "Epoch: 20/20... Step: 2640... Loss: 1.2281... Val Loss: 1.1961\n",
            "Epoch: 20/20... Step: 2650... Loss: 1.2265... Val Loss: 1.1948\n",
            "Epoch: 20/20... Step: 2660... Loss: 1.2309... Val Loss: 1.1955\n",
            "Epoch: 20/20... Step: 2670... Loss: 1.2195... Val Loss: 1.1937\n",
            "Epoch: 20/20... Step: 2680... Loss: 1.2037... Val Loss: 1.1934\n",
            "Epoch: 20/20... Step: 2690... Loss: 1.2206... Val Loss: 1.1942\n",
            "Epoch: 20/20... Step: 2700... Loss: 1.2152... Val Loss: 1.1924\n",
            "Epoch: 20/20... Step: 2710... Loss: 1.2420... Val Loss: 1.1936\n",
            "Epoch: 20/20... Step: 2720... Loss: 1.2100... Val Loss: 1.1952\n",
            "Epoch: 20/20... Step: 2730... Loss: 1.2266... Val Loss: 1.1912\n",
            "Epoch: 20/20... Step: 2740... Loss: 1.2540... Val Loss: 1.1891\n",
            "Epoch: 20/20... Step: 2750... Loss: 1.2403... Val Loss: 1.1904\n",
            "Epoch: 20/20... Step: 2760... Loss: 1.2832... Val Loss: 1.1889\n"
          ]
        }
      ],
      "source": [
        "batch_size = 128\n",
        "seq_length = 100\n",
        "n_epochs =  20# start small if you are just testing initial behavior\n",
        "\n",
        "# train the model\n",
        "train(net, encoded, epochs=n_epochs, batch_size=batch_size, seq_length=seq_length, lr=0.001, print_every=10)"
      ]
    },
    {
      "cell_type": "markdown",
      "metadata": {
        "id": "95JT_CjmonLa"
      },
      "source": [
        "## Getting the best model\n",
        "\n",
        "To set your hyperparameters to get the best performance, you'll want to watch the training and validation losses. If your training loss is much lower than the validation loss, you're overfitting. Increase regularization (more dropout) or use a smaller network. If the training and validation losses are close, you're underfitting so you can increase the size of the network."
      ]
    },
    {
      "cell_type": "markdown",
      "metadata": {
        "id": "1iuz68qZonLa"
      },
      "source": [
        "## Hyperparameters\n",
        "\n",
        "Here are the hyperparameters for the network.\n",
        "\n",
        "In defining the model:\n",
        "* `n_hidden` - The number of units in the hidden layers.\n",
        "* `n_layers` - Number of hidden LSTM layers to use.\n",
        "\n",
        "We assume that dropout probability and learning rate will be kept at the default, in this example.\n",
        "\n",
        "And in training:\n",
        "* `batch_size` - Number of sequences running through the network in one pass.\n",
        "* `seq_length` - Number of characters in the sequence the network is trained on. Larger is better typically, the network will learn more long range dependencies. But it takes longer to train. 100 is typically a good number here.\n",
        "* `lr` - Learning rate for training\n",
        "\n",
        "Here's some good advice from Andrej Karpathy on training the network. I'm going to copy it in here for your benefit, but also link to [where it originally came from](https://github.com/karpathy/char-rnn#tips-and-tricks).\n",
        "\n",
        "> ## Tips and Tricks\n",
        "\n",
        ">### Monitoring Validation Loss vs. Training Loss\n",
        ">If you're somewhat new to Machine Learning or Neural Networks it can take a bit of expertise to get good models. The most important quantity to keep track of is the difference between your training loss (printed during training) and the validation loss (printed once in a while when the RNN is run on the validation data (by default every 1000 iterations)). In particular:\n",
        "\n",
        "> - If your training loss is much lower than validation loss then this means the network might be **overfitting**. Solutions to this are to decrease your network size, or to increase dropout. For example you could try dropout of 0.5 and so on.\n",
        "> - If your training/validation loss are about equal then your model is **underfitting**. Increase the size of your model (either number of layers or the raw number of neurons per layer)\n",
        "\n",
        "> ### Approximate number of parameters\n",
        "\n",
        "> The two most important parameters that control the model are `n_hidden` and `n_layers`. I would advise that you always use `n_layers` of either 2/3. The `n_hidden` can be adjusted based on how much data you have. The two important quantities to keep track of here are:\n",
        "\n",
        "> - The number of parameters in your model. This is printed when you start training.\n",
        "> - The size of your dataset. 1MB file is approximately 1 million characters.\n",
        "\n",
        ">These two should be about the same order of magnitude. It's a little tricky to tell. Here are some examples:\n",
        "\n",
        "> - I have a 100MB dataset and I'm using the default parameter settings (which currently print 150K parameters). My data size is significantly larger (100 mil >> 0.15 mil), so I expect to heavily underfit. I am thinking I can comfortably afford to make `n_hidden` larger.\n",
        "> - I have a 10MB dataset and running a 10 million parameter model. I'm slightly nervous and I'm carefully monitoring my validation loss. If it's larger than my training loss then I may want to try to increase dropout a bit and see if that helps the validation loss.\n",
        "\n",
        "> ### Best models strategy\n",
        "\n",
        ">The winning strategy to obtaining very good models (if you have the compute time) is to always err on making the network larger (as large as you're willing to wait for it to compute) and then try different dropout values (between 0,1). Whatever model has the best validation performance (the loss, written in the checkpoint filename, low is good) is the one you should use in the end.\n",
        "\n",
        ">It is very common in deep learning to run many different models with many different hyperparameter settings, and in the end take whatever checkpoint gave the best validation performance.\n",
        "\n",
        ">By the way, the size of your training and validation splits are also parameters. Make sure you have a decent amount of data in your validation set or otherwise the validation performance will be noisy and not very informative."
      ]
    },
    {
      "cell_type": "markdown",
      "metadata": {
        "id": "God_qcWNonLa"
      },
      "source": [
        "## Checkpoint\n",
        "\n",
        "After training, we'll save the model so we can load it again later if we need too. Here I'm saving the parameters needed to create the same architecture, the hidden layer hyperparameters and the text characters."
      ]
    },
    {
      "cell_type": "code",
      "execution_count": 17,
      "metadata": {
        "collapsed": true,
        "id": "mpZkTh6oonLa"
      },
      "outputs": [],
      "source": [
        "# change the name, for saving multiple files\n",
        "model_name = 'rnn_x_epoch.net'\n",
        "\n",
        "checkpoint = {'n_hidden': net.n_hidden,\n",
        "              'n_layers': net.n_layers,\n",
        "              'state_dict': net.state_dict(),\n",
        "              'tokens': net.chars}\n",
        "\n",
        "with open(model_name, 'wb') as f:\n",
        "    torch.save(checkpoint, f)"
      ]
    },
    {
      "cell_type": "markdown",
      "metadata": {
        "id": "24kTpH6AonLb"
      },
      "source": [
        "---\n",
        "## Making Predictions\n",
        "\n",
        "Now that the model is trained, we'll want to sample from it and make predictions about next characters! To sample, we pass in a character and have the network predict the next character. Then we take that character, pass it back in, and get another predicted character. Just keep doing this and you'll generate a bunch of text!\n",
        "\n",
        "### A note on the `predict`  function\n",
        "\n",
        "The output of our RNN is from a fully-connected layer and it outputs a **distribution of next-character scores**.\n",
        "\n",
        "> To actually get the next character, we apply a softmax function, which gives us a *probability* distribution that we can then sample to predict the next character.\n",
        "\n",
        "### Top K sampling\n",
        "\n",
        "Our predictions come from a categorical probability distribution over all the possible characters. We can make the sample text and make it more reasonable to handle (with less variables) by only considering some $K$ most probable characters. This will prevent the network from giving us completely absurd characters while allowing it to introduce some noise and randomness into the sampled text. Read more about [topk, here](https://pytorch.org/docs/stable/torch.html#torch.topk).\n"
      ]
    },
    {
      "cell_type": "code",
      "execution_count": 18,
      "metadata": {
        "collapsed": true,
        "id": "mMBtORKvonLb"
      },
      "outputs": [],
      "source": [
        "def predict(net, char, h=None, top_k=None):\n",
        "        ''' Given a character, predict the next character.\n",
        "            Returns the predicted character and the hidden state.\n",
        "        '''\n",
        "\n",
        "        # tensor inputs\n",
        "        x = np.array([[net.char2int[char]]])\n",
        "        x = one_hot_encode(x, len(net.chars))\n",
        "        inputs = torch.from_numpy(x)\n",
        "\n",
        "        if(train_on_gpu):\n",
        "            inputs = inputs.cuda()\n",
        "\n",
        "        # detach hidden state from history\n",
        "        h = tuple([each.data for each in h])\n",
        "        # get the output of the model\n",
        "        out, h = net(inputs, h)\n",
        "\n",
        "        # get the character probabilities\n",
        "        p = F.softmax(out, dim=1).data\n",
        "        if(train_on_gpu):\n",
        "            p = p.cpu() # move to cpu\n",
        "\n",
        "        # get top characters\n",
        "        if top_k is None:\n",
        "            top_ch = np.arange(len(net.chars))\n",
        "        else:\n",
        "            p, top_ch = p.topk(top_k)\n",
        "            top_ch = top_ch.numpy().squeeze()\n",
        "\n",
        "        # select the likely next character with some element of randomness\n",
        "        p = p.numpy().squeeze()\n",
        "        char = np.random.choice(top_ch, p=p/p.sum())\n",
        "\n",
        "        # return the encoded value of the predicted char and the hidden state\n",
        "        return net.int2char[char], h"
      ]
    },
    {
      "cell_type": "markdown",
      "metadata": {
        "id": "N5589ZBjonLb"
      },
      "source": [
        "### Priming and generating text\n",
        "\n",
        "Typically you'll want to prime the network so you can build up a hidden state. Otherwise the network will start out generating characters at random. In general the first bunch of characters will be a little rough since it hasn't built up a long history of characters to predict from."
      ]
    },
    {
      "cell_type": "code",
      "execution_count": 19,
      "metadata": {
        "collapsed": true,
        "id": "nthTE2PBonLb"
      },
      "outputs": [],
      "source": [
        "def sample(net, size, prime='The', top_k=None):\n",
        "\n",
        "    if(train_on_gpu):\n",
        "        net.cuda()\n",
        "    else:\n",
        "        net.cpu()\n",
        "\n",
        "    net.eval() # eval mode\n",
        "\n",
        "    # First off, run through the prime characters\n",
        "    chars = [ch for ch in prime]\n",
        "    h = net.init_hidden(1)\n",
        "    for ch in prime:\n",
        "        char, h = predict(net, ch, h, top_k=top_k)\n",
        "\n",
        "    chars.append(char)\n",
        "\n",
        "    # Now pass in the previous character and get a new one\n",
        "    for ii in range(size):\n",
        "        char, h = predict(net, chars[-1], h, top_k=top_k)\n",
        "        chars.append(char)\n",
        "\n",
        "    return ''.join(chars)"
      ]
    },
    {
      "cell_type": "code",
      "execution_count": 24,
      "metadata": {
        "collapsed": true,
        "colab": {
          "base_uri": "https://localhost:8080/"
        },
        "id": "opeh7HDionLf",
        "outputId": "cdda430d-e8df-4896-b77d-a3603e42a355"
      },
      "outputs": [
        {
          "output_type": "stream",
          "name": "stdout",
          "text": [
            "The was instantly, to have been telling him, but he had a sort of continual counting her heart and a second with\n",
            "whether. The sack moment\n",
            "of the way, and her left charce\n",
            "happened with a man’s subject.\n",
            "\n",
            "“I shall be a mental peasant with the\n",
            "subject of mind that, and I’ll go to the corner of my story, touch, I have all out of making the performance, but I deneived that the minutest of his father’s son while he’s never telling those of her.”\n",
            "\n",
            "“No, I can’t and seve me, that’s\n",
            "no means of her then?” answered Varenka, she flamed.\n",
            "\n",
            "“Where’s the doubt of this thing, to be that’s an extremelition!”\n",
            "\n",
            "“Onlighten!” answered Vronsky,\n",
            "“that I didn’t want to me and there’s\n",
            "a perfect tone it were to\n",
            "see the persent. I don’t care to meet you,” answered Sergey Ivanovitch’s soul,\n",
            "assenting the place with a\n",
            "complex the most common wife who should not be struck it, and was as it would have been the part of her attitude to her, he had been taking off and had been to do a mentare with his heart in such a shame. B\n"
          ]
        }
      ],
      "source": [
        "print(sample(net, 1000, prime='The ', top_k=5))"
      ]
    },
    {
      "cell_type": "code",
      "source": [],
      "metadata": {
        "id": "hECa6Eyunig6"
      },
      "execution_count": null,
      "outputs": []
    },
    {
      "cell_type": "markdown",
      "metadata": {
        "id": "g8N8LgYnonLf"
      },
      "source": [
        "## Loading a checkpoint"
      ]
    },
    {
      "cell_type": "code",
      "execution_count": 21,
      "metadata": {
        "collapsed": true,
        "colab": {
          "base_uri": "https://localhost:8080/"
        },
        "id": "ezOuPEITonLf",
        "outputId": "1c8f278c-30a8-406f-aa02-e1292d67c5dc"
      },
      "outputs": [
        {
          "output_type": "stream",
          "name": "stderr",
          "text": [
            "<ipython-input-21-150cd3a0fa68>:3: FutureWarning: You are using `torch.load` with `weights_only=False` (the current default value), which uses the default pickle module implicitly. It is possible to construct malicious pickle data which will execute arbitrary code during unpickling (See https://github.com/pytorch/pytorch/blob/main/SECURITY.md#untrusted-models for more details). In a future release, the default value for `weights_only` will be flipped to `True`. This limits the functions that could be executed during unpickling. Arbitrary objects will no longer be allowed to be loaded via this mode unless they are explicitly allowlisted by the user via `torch.serialization.add_safe_globals`. We recommend you start setting `weights_only=True` for any use case where you don't have full control of the loaded file. Please open an issue on GitHub for any issues related to this experimental feature.\n",
            "  checkpoint = torch.load(f)\n"
          ]
        },
        {
          "output_type": "execute_result",
          "data": {
            "text/plain": [
              "<All keys matched successfully>"
            ]
          },
          "metadata": {},
          "execution_count": 21
        }
      ],
      "source": [
        "# Here we have loaded in a model that trained over 20 epochs `rnn_20_epoch.net`\n",
        "with open('rnn_x_epoch.net', 'rb') as f:\n",
        "    checkpoint = torch.load(f)\n",
        "\n",
        "loaded = CharRNN(checkpoint['tokens'], n_hidden=checkpoint['n_hidden'], n_layers=checkpoint['n_layers'])\n",
        "loaded.load_state_dict(checkpoint['state_dict'])"
      ]
    },
    {
      "cell_type": "code",
      "execution_count": 22,
      "metadata": {
        "collapsed": true,
        "colab": {
          "base_uri": "https://localhost:8080/"
        },
        "id": "SoYzISD-onLf",
        "outputId": "fd6c75be-0fd3-4938-c623-8302aecdc86e"
      },
      "outputs": [
        {
          "output_type": "stream",
          "name": "stdout",
          "text": [
            "And Levin said, who was took\n",
            "at\n",
            "the prince. As so sound and this chief stall of the stop, and\n",
            "they were\n",
            "calling it, and would not be.\n",
            "\n",
            "“I was angaining them,” thought Vronsky, said, and still said to\n",
            "Liza.\n",
            "He\n",
            "laughed.\n",
            "\n",
            "“All see to me?... I wouldn’t say. All the manters were never always been in her for the\n",
            "carriage and\n",
            "has,” she was not asking that the\n",
            "party of his simple, still,\n",
            "who was\n",
            "so anstering for the doorway, as he went up to\n",
            "their\n",
            "calm and talking\n",
            "of the\n",
            "same sense of that interpretation, he had a supplicity, as a shade of the will of the son, she had there thought. All the most\n",
            "cheeked and was to the doctor and his face and had, a shiff of second angicated\n",
            "shame. There was nothing and what was now,”\n",
            "said the prince. “I can’t take any\n",
            "children,\n",
            "with\n",
            "a cortion, and I can’t be still at the doctor’s complexe than they’re set a position\n",
            "is at all that was the\n",
            "children.”\n",
            "\n",
            "The state of a long time to there and the conversation was sharped, he felt himself to say, the convertation, so as his matter.\n",
            "\n",
            "“Well, it’s all to be sore in makes too the course, but you can say it too more and a man the committee and the day in times,\n",
            "I\n",
            "didn’t see.”\n",
            "\n",
            "“Yes; it’s so an one of that?” he added. “It’s so simplar and matter.”\n",
            "\n",
            "“Oh, well, that’s the summer the story of married men.”\n",
            "\n",
            "“I do nothing,” he said, after the moment or the street, tried to take a men was\n",
            "an experience, seeished the member of the children, and he\n",
            "went out; and they with the\n",
            "province. He would be true, but they\n",
            "was an excellent arms tried to speak, because he was at a man, though there was a little closer side, to be sent off towards the\n",
            "most\n",
            "complex in the state of a little sincore of soft of arrival, and there are never was an officer, tried. As they had not a past, and to do his face was to\n",
            "her his face. But still the position was so made, but she had not seemed to see his soul that he went into the card with a strange\n",
            "and talking for her, she was confision in why his fronts they had not the same take all side-tames, an\n"
          ]
        }
      ],
      "source": [
        "# Sample using a loaded model\n",
        "print(sample(loaded, 2000, top_k=5, prime=\"And Levin said\"))"
      ]
    },
    {
      "cell_type": "code",
      "execution_count": null,
      "metadata": {
        "collapsed": true,
        "id": "irE8z_vLonLf"
      },
      "outputs": [],
      "source": []
    }
  ],
  "metadata": {
    "kernelspec": {
      "display_name": "Python 3",
      "name": "python3"
    },
    "language_info": {
      "codemirror_mode": {
        "name": "ipython",
        "version": 3
      },
      "file_extension": ".py",
      "mimetype": "text/x-python",
      "name": "python",
      "nbconvert_exporter": "python",
      "pygments_lexer": "ipython3",
      "version": "3.6.4"
    },
    "colab": {
      "provenance": [],
      "gpuType": "T4",
      "include_colab_link": true
    },
    "accelerator": "GPU"
  },
  "nbformat": 4,
  "nbformat_minor": 0
}